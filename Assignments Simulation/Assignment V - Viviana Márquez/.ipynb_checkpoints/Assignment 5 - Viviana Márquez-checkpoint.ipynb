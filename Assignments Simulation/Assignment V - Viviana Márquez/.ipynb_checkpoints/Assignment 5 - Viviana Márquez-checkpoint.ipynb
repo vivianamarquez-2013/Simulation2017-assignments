{
 "cells": [
  {
   "cell_type": "markdown",
   "metadata": {},
   "source": [
    "<img src=\"http://orientacion.universia.net.co/imgs2011/imagenes/logo-header-konradlorenz.png\">\n",
    "# Simulation\n",
    "### Assignment 5\n",
    "<b>Name:</b> Viviana Márquez<br>\n",
    "<b>Code:</b> 614132005<br>\n",
    "<b>Date:</b> Saturday, March 11th, 2017<br>\n",
    "<hr>"
   ]
  },
  {
   "cell_type": "markdown",
   "metadata": {},
   "source": [
    "### 1. Computational Models with Quadratic Growth"
   ]
  },
  {
   "cell_type": "markdown",
   "metadata": {},
   "source": [
    "• (15 Points) Formulate a mathematical model based on a functional equation of the following network problem similar to one discussed in lecture. There are three servers and several client computers connected via communication links. All connections between pairs of clients require two links. The connection between servers also requires two links. Derive an equation for the number of links. Plot your results."
   ]
  },
  {
   "cell_type": "markdown",
   "metadata": {},
   "source": [
    "<b>Equation:</b>\n",
    "<center>$n= [n \\cdot (n-1)] + 6 + \\left[\\left\\lfloor\\dfrac{n}{3}\\right\\rfloor\\cdot 6\\right] + [(n\\mod3) \\cdot2]$,</center><br>\n",
    "where $n$ is the number of clients. The first term reprensents the number of links between computers, the second term represents the number of links between the three servers, and the last two terms represent the number of links between computers and servers."
   ]
  },
  {
   "cell_type": "code",
   "execution_count": 1,
   "metadata": {
    "collapsed": false
   },
   "outputs": [
    {
     "name": "stderr",
     "output_type": "stream",
     "text": [
      "/Users/vivianamarquez/anaconda/lib/python3.6/site-packages/matplotlib/axes/_axes.py:545: UserWarning: No labelled objects found. Use label='...' kwarg on individual plots.\n",
      "  warnings.warn(\"No labelled objects found. \"\n"
     ]
    },
    {
     "data": {
      "image/png": "[encoded data removed]",
      "text/plain": [
       "<matplotlib.figure.Figure at 0x10bb63978>"
      ]
     },
     "metadata": {},
     "output_type": "display_data"
    }
   ],
   "source": [
    "clients = list(range(1, 51))\n",
    "links = []\n",
    "for n in clients:\n",
    "    links.append(n*(n-1)+6+int(n/3)*6+(n%3)*2)\n",
    "    \n",
    "%matplotlib inline\n",
    "import matplotlib as mpl\n",
    "import matplotlib.pyplot as plt\n",
    "\n",
    "x = clients\n",
    "y = links\n",
    "\n",
    "mpl.rc(\"figure\", figsize=(8, 8))\n",
    "\n",
    "plt.xlabel('Number of clients', fontsize=14)\n",
    "plt.ylabel('Number of links', fontsize=14)\n",
    "plt.plot(x,y,'m*')\n",
    "plt.legend()\n",
    "plt.show()"
   ]
  },
  {
   "cell_type": "markdown",
   "metadata": {},
   "source": [
    "<hr>"
   ]
  },
  {
   "cell_type": "markdown",
   "metadata": {},
   "source": [
    "### 2. Least Squares Fitting"
   ]
  },
  {
   "cell_type": "markdown",
   "metadata": {},
   "source": [
    "• (35 Points) Derive the equations for a linear least squares fitting with perpendicular offsets."
   ]
  },
  {
   "cell_type": "markdown",
   "metadata": {
    "collapsed": true
   },
   "source": [
    "<font color=\"blue\">Solution:</font><br><br>\n",
    "\n",
    "Let us minimize $R_{\\perp} = \\sum_{i=1}^{n} d(x_{i},y_{i})$,<br><br>\n",
    "where $d(x_{i},y_{i})$ is the distance between a point $(x_i,y_i)$ from our data and our fitted line of the form $y=a+bx$.<br><br>\n",
    "<center>$d(x_{i},y_{i}) = \\dfrac{|y_i - (a+bx_i)|}{\\sqrt{1+b^2}}$</center><br><br>\n",
    "Then, we get:<br><br>\n",
    "<center>$R_{\\perp} = \\sum_{i=1}^{n} \\dfrac{|y_i - (a+bx_i)|}{\\sqrt{1+b^2}}$.</center><br><br>\n",
    "In order to avoid the absolute value (because it is not a $C^1$ function), then we square it.<br><br>\n",
    "<center>$R_{\\perp}^2 = \\sum_{i=1}^{n} \\dfrac{(y_i - (a+bx_i))^2}{1+b^2}$</center>.<br><br>\n",
    "Since we want to minimize, we need to find when its first derivatives are equal to zero.<br><br>\n",
    "<center>$\\dfrac{\\partial R_{\\perp}^2}{\\partial a} = \\dfrac{\\partial R_{\\perp}^2}{\\partial b} = 0$</center><br><br>\n",
    "<center>$\\dfrac{\\partial R_{\\perp}^2}{\\partial a} = \\dfrac{-2}{1+b^2}\\sum_{i=1}^{n} (y_i - (a+bx_i)) = 0$ <font color=\"blue\">(1)</font></center><br><br>\n",
    "<center>$\\dfrac{\\partial R_{\\perp}^2}{\\partial b} = \\dfrac{-2}{(1+b^2)^2}\\sum_{i=1}^{n}(a+bx_i - y_i)(ab-by_i-x_i) = 0$ <font color=\"blue\">(2)</font></center><br><br>\n",
    "From <font color=\"blue\">(1)</font> we obtain that:<br><br>\n",
    "<center>$a = \\dfrac{\\sum y_i - b \\sum x_i}{n}$</center>\n",
    "\n",
    "Then, from <font color=\"blue\">(2)</font> we get:<br><br>\n",
    "<center>$\\sum_{i=1}^{n}(a+bx_i - y_i)(ab-by_i-x_i) = 0$</center><br><br>\n",
    "<center>$\\sum_{i=1}^{n}b^2ax_i + b (-x_i^2+a^2-ay_i) + (ax_i + x_iy_i) = 0$</center><br><br>\n",
    "<center>$b = \\dfrac {\\sum (x_i^2 -a^2 + ay_i)\\pm \\sqrt{(\\sum (x_i^2 -a^2 + ay_i))^2 - 4(\\sum ax_i)(\\sum ax_i + x_iy_i)}}{2(\\sum ax_i)}$</center>\n",
    "<br><br>\n",
    "Replacing $a$, we obtain:\n",
    "<br><br>\n",
    "<center>$b = \\dfrac {\\sum (x_i^2 -(\\dfrac{\\sum y_i - b \\sum x_i}{n})^2 + (\\dfrac{\\sum y_i - b \\sum x_i}{n})y_i)\\pm \\sqrt{(\\sum (x_i^2 -(\\dfrac{\\sum y_i - b \\sum x_i}{n})^2 + (\\dfrac{\\sum y_i - b \\sum x_i}{n})y_i))^2 - 4(\\sum (\\dfrac{\\sum y_i - b \\sum x_i}{n})x_i)(\\sum (\\dfrac{\\sum y_i - b \\sum x_i}{n})x_i + x_iy_i)}}{2(\\sum (\\dfrac{\\sum y_i - b \\sum x_i}{n})x_i)}$</center>\n",
    "<br><br>\n",
    "From the equation above, we solve for $b$, and then we replace this in <font color=\"blue\">(1)</font> to obtain $a$."
   ]
  }
 ],
 "metadata": {
  "kernelspec": {
   "display_name": "Python 3",
   "language": "python",
   "name": "python3"
  },
  "language_info": {
   "codemirror_mode": {
    "name": "ipython",
    "version": 3
   },
   "file_extension": ".py",
   "mimetype": "text/x-python",
   "name": "python",
   "nbconvert_exporter": "python",
   "pygments_lexer": "ipython3",
   "version": "3.6.0"
  }
 },
 "nbformat": 4,
 "nbformat_minor": 2
}
