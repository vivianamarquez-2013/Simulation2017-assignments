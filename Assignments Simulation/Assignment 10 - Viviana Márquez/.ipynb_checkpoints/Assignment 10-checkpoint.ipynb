{
 "cells": [
  {
   "cell_type": "markdown",
   "metadata": {},
   "source": [
    "<img src=\"http://orientacion.universia.net.co/imgs2011/imagenes/logo-header-konradlorenz.png\">\n",
    "# Simulation\n",
    "### Assignment 10\n",
    "<b>Name:</b> Viviana Márquez<br>\n",
    "<b>Code:</b> 614132005<br>\n",
    "<b>Date:</b> Saturday, May 13, 2017<br>\n",
    "<hr>"
   ]
  },
  {
   "cell_type": "markdown",
   "metadata": {},
   "source": [
    "### 1. Rate of convergence of an MCMC scheme"
   ]
  },
  {
   "cell_type": "markdown",
   "metadata": {},
   "source": [
    "• (20 Points) Sample from the distribution obtained by rolling two fair six-sided dice using the Metropolis algorithm with neighborhood system as given by the proposal matrix<br>\n",
    "\n",
    "<center>\n",
    "$G = \\begin{bmatrix}\n",
    " \\frac{1}{2} & \\frac{1}{2} & 0 & 0 & 0 & 0 & 0 & 0 & 0 & 0 \\\\ \n",
    " \\frac{1}{2} & 0 & \\frac{1}{2} & 0 & 0 & 0 & 0 & 0 & 0 & 0 \\\\ \n",
    " 0 &  \\frac{1}{2} & 0 & \\frac{1}{2} & 0 & 0 & 0 & 0 & 0 & 0 \\\\ \n",
    "\\vdots &  & \\ddots & \\ddots & \\ddots &  &  & \\ddots &  & \\\\ \n",
    "0 & 0 & 0 & 0 & 0 & 0 & 0 & 0 &  \\frac{1}{2} &  \\frac{1}{2} \n",
    "\\end{bmatrix}\n",
    "$\n",
    "</center><br>\n",
    "\n",
    "i.e., using the minimal neighborhoods we studied two weeks ago. Remember that the neighborhood for each state is just one or two other states. For each $3 \\leq x \\leq 11$ let<br>\n",
    "<center>\n",
    "$g_x(y)=\\left\\{\\begin{matrix}\n",
    "\\frac{1}{2} & \\text{if } y = x-1 \\\\ \n",
    "\\frac{1}{2} & \\text{if } y = x+1\\\\ \n",
    "0 & \\text{otherwise}\n",
    "\\end{matrix}\\right.$\n",
    "</center><br>\n",
    "\n",
    "and $g_2(3)=g_2(2)=g_{12}(11)=g_{12}(12)=\\frac{1}{2}$. Letting the sequence samples be $X_1,X_2,...,X_N$, compute <br>\n",
    "<center>$avg_N=\\frac{1}{N}\\sum\\limits_{i}Xi$</center>.<br>\n",
    "Run $100$ instances of $N = 100$, histogram the values of $avg_{100}$, and compute the variance. Repeat with $100$ instances of $N = 200$ and again with $100$ instances of $N = 1000$. This should give an indication of how the estimates of the average converge as the number of iterations increases. Comment on your results.\n",
    "\n"
   ]
  },
  {
   "cell_type": "code",
   "execution_count": 1,
   "metadata": {
    "collapsed": true
   },
   "outputs": [],
   "source": [
    "import numpy as np\n",
    "import matplotlib.pyplot as plt\n",
    "%matplotlib inline "
   ]
  },
  {
   "cell_type": "markdown",
   "metadata": {},
   "source": [
    "$N=100$"
   ]
  },
  {
   "cell_type": "code",
   "execution_count": 2,
   "metadata": {
    "collapsed": false
   },
   "outputs": [],
   "source": [
    "vec_avg=np.zeros(101)\n",
    "vec_var=np.zeros(101)\n",
    "def avg():\n",
    "    return (1/n)*sum(d)\n",
    "\n",
    "for a in range(0,101):\n",
    "    f=[0,1,2,3,4,5,6,5,4,3,2,1] #0 is just positional\n",
    "    n=100 #Times we run the Markov Chain\n",
    "    d=np.zeros(n)\n",
    "    x=2\n",
    "    for i in range(n):\n",
    "        U=np.random.rand()\n",
    "        if x==2: #g(2)\n",
    "            if U<0.5:\n",
    "                y=3\n",
    "            else:\n",
    "                y=2\n",
    "        elif x==12: #g(12)\n",
    "            if U<0.5:\n",
    "                y=11\n",
    "            else:\n",
    "                y=12\n",
    "        else:\n",
    "            if U<0.5:\n",
    "                y=x-1\n",
    "            else:\n",
    "                y=x+1\n",
    "        h=min(1,f[y-1]/f[x-1]) #Looking for the min\n",
    "        U=np.random.rand()\n",
    "        if U < h:\n",
    "            x=y\n",
    "        d[i]=x\n",
    "    vec_avg[a]=avg()\n",
    "    vec_var[a]=np.var(d) #Variance\n",
    "\n",
    "a=np.arange(0,12)"
   ]
  },
  {
   "cell_type": "code",
   "execution_count": 3,
   "metadata": {
    "collapsed": false,
    "scrolled": true
   },
   "outputs": [
    {
     "data": {
      "text/plain": [
       "(array([  0.,   0.,   0.,   0.,   6.,  31.,  37.,  17.,  10.,   0.,   0.]),\n",
       " array([ 0,  1,  2,  3,  4,  5,  6,  7,  8,  9, 10, 11]),\n",
       " <a list of 11 Patch objects>)"
      ]
     },
     "execution_count": 3,
     "metadata": {},
     "output_type": "execute_result"
    },
    {
     "data": {
      "image/png": "[encoded data removed]",
      "text/plain": [
       "<matplotlib.figure.Figure at 0x10d39dc88>"
      ]
     },
     "metadata": {},
     "output_type": "display_data"
    }
   ],
   "source": [
    "plt.hist(vec_avg,a)"
   ]
  },
  {
   "cell_type": "markdown",
   "metadata": {},
   "source": [
    "$N=200$"
   ]
  },
  {
   "cell_type": "code",
   "execution_count": 4,
   "metadata": {
    "collapsed": false
   },
   "outputs": [],
   "source": [
    "vec_avg=np.zeros(101)\n",
    "def avg():\n",
    "    return (1/n)*sum(d)\n",
    "\n",
    "for a in range(0,101):\n",
    "    f=[0,1,2,3,4,5,6,5,4,3,2,1] #0 is just positional\n",
    "    n=200 #Times we run the Markov Chain\n",
    "    d=np.zeros(n)\n",
    "    x=2\n",
    "    for i in range(n):\n",
    "        U=np.random.rand()\n",
    "        if x==2: #g(2)\n",
    "            if U<0.5:\n",
    "                y=3\n",
    "            else:\n",
    "                y=2\n",
    "        elif x==12: #g(12)\n",
    "            if U<0.5:\n",
    "                y=11\n",
    "            else:\n",
    "                y=12\n",
    "        else:\n",
    "            if U<0.5:\n",
    "                y=x-1\n",
    "            else:\n",
    "                y=x+1\n",
    "        h=min(1,f[y-1]/f[x-1]) #Looking for the min\n",
    "        U=np.random.rand()\n",
    "        if U < h:\n",
    "            x=y\n",
    "        d[i]=x\n",
    "    vec_avg[a]=avg()\n",
    "    vec_var[a]=np.var(d) #Variance\n",
    "\n",
    "a=np.arange(0,12)"
   ]
  },
  {
   "cell_type": "code",
   "execution_count": 5,
   "metadata": {
    "collapsed": false
   },
   "outputs": [
    {
     "data": {
      "text/plain": [
       "(array([  0.,   0.,   0.,   0.,   1.,  24.,  41.,  28.,   6.,   1.,   0.]),\n",
       " array([ 0,  1,  2,  3,  4,  5,  6,  7,  8,  9, 10, 11]),\n",
       " <a list of 11 Patch objects>)"
      ]
     },
     "execution_count": 5,
     "metadata": {},
     "output_type": "execute_result"
    },
    {
     "data": {
      "image/png": "[encoded data removed]",
      "text/plain": [
       "<matplotlib.figure.Figure at 0x10f9f5630>"
      ]
     },
     "metadata": {},
     "output_type": "display_data"
    }
   ],
   "source": [
    "plt.hist(vec_avg,a)"
   ]
  },
  {
   "cell_type": "markdown",
   "metadata": {},
   "source": [
    "$N=1000$"
   ]
  },
  {
   "cell_type": "code",
   "execution_count": 6,
   "metadata": {
    "collapsed": false
   },
   "outputs": [],
   "source": [
    "vec_avg=np.zeros(101)\n",
    "def avg():\n",
    "    return (1/n)*sum(d)\n",
    "\n",
    "for a in range(0,101):\n",
    "    f=[0,1,2,3,4,5,6,5,4,3,2,1] #0 is just positional\n",
    "    n=1000 #Times we run the Markov Chain\n",
    "    d=np.zeros(n)\n",
    "    x=2\n",
    "    for i in range(n):\n",
    "        U=np.random.rand()\n",
    "        if x==2: #g(2)\n",
    "            if U<0.5:\n",
    "                y=3\n",
    "            else:\n",
    "                y=2\n",
    "        elif x==12: #g(12)\n",
    "            if U<0.5:\n",
    "                y=11\n",
    "            else:\n",
    "                y=12\n",
    "        else:\n",
    "            if U<0.5:\n",
    "                y=x-1\n",
    "            else:\n",
    "                y=x+1\n",
    "        h=min(1,f[y-1]/f[x-1]) #Looking for the min\n",
    "        U=np.random.rand()\n",
    "        if U < h:\n",
    "            x=y\n",
    "        d[i]=x\n",
    "    vec_avg[a]=avg()\n",
    "    vec_var[a]=np.var(d) #Variance\n",
    "\n",
    "a=np.arange(0,12)"
   ]
  },
  {
   "cell_type": "code",
   "execution_count": 7,
   "metadata": {
    "collapsed": false
   },
   "outputs": [
    {
     "data": {
      "text/plain": [
       "(array([  0.,   0.,   0.,   0.,   0.,   0.,  54.,  47.,   0.,   0.,   0.]),\n",
       " array([ 0,  1,  2,  3,  4,  5,  6,  7,  8,  9, 10, 11]),\n",
       " <a list of 11 Patch objects>)"
      ]
     },
     "execution_count": 7,
     "metadata": {},
     "output_type": "execute_result"
    },
    {
     "data": {
      "image/png": "[encoded data removed]",
      "text/plain": [
       "<matplotlib.figure.Figure at 0x10fa67198>"
      ]
     },
     "metadata": {},
     "output_type": "display_data"
    }
   ],
   "source": [
    "plt.hist(vec_avg,a)"
   ]
  },
  {
   "cell_type": "markdown",
   "metadata": {},
   "source": [
    "As the number of iterations increases, the estimates of the average converge to $7$. This makes sense because there are 6 ways to roll $7$: $(1,6) (2,5) (3,4) (4,3) (5,2) (6,1)$, more ways than any other number."
   ]
  },
  {
   "cell_type": "markdown",
   "metadata": {
    "collapsed": false
   },
   "source": [
    "<hr>\n",
    "### 2. Metropolis Algorithm\n",
    "<br>\n",
    "• (15 Points) Use Metropolis to sample from the $pdf$\n",
    "<center>$f(x)=cx^2e^{-x}$</center><br>\n",
    "for $0 \\leq x \\leq \\infty$. As the neighborhood of $x$, take the interval $[x-\\delta,x+\\delta]$ for some $\\delta>0$. Check the $pdf$ and the effect of start point (by doing a $pdf$ starting from different points). Comment on your results."
   ]
  },
  {
   "cell_type": "code",
   "execution_count": 8,
   "metadata": {
    "collapsed": false
   },
   "outputs": [
    {
     "data": {
      "text/plain": [
       "(array([   0.,    0.,    0.,    0.,    0.,  102.,  271.,  240.,  183.,\n",
       "          96.,   50.,   32.,   11.,   15.,    0.,    0.,    0.,    0.,\n",
       "           0.,    0.,    0.,    0.,    0.,    0.]),\n",
       " array([-5, -4, -3, -2, -1,  0,  1,  2,  3,  4,  5,  6,  7,  8,  9, 10, 11,\n",
       "        12, 13, 14, 15, 16, 17, 18, 19]),\n",
       " <a list of 24 Patch objects>)"
      ]
     },
     "execution_count": 8,
     "metadata": {},
     "output_type": "execute_result"
    },
    {
     "data": {
      "image/png": "[encoded data removed]",
      "text/plain": [
       "<matplotlib.figure.Figure at 0x10fbe4f28>"
      ]
     },
     "metadata": {},
     "output_type": "display_data"
    }
   ],
   "source": [
    "def f(x):\n",
    "    return 0.5*x**2 *np.exp(-x) #Let c=1/2\n",
    "\n",
    "n=1000 #A thousand experiments\n",
    "d=np.zeros(n)\n",
    "x=2\n",
    "\n",
    "for i in range(n):\n",
    "    y=np.random.uniform(x-1,x+1,1)[0] #Let d=1\n",
    "    if y<0:\n",
    "        y=x\n",
    "    h=min(1,f(y)/f(x))\n",
    "    #print (h)\n",
    "    U=np.random.rand()\n",
    "    if U < h:\n",
    "        x=y\n",
    "    d[i]=x\n",
    "    \n",
    "a=np.arange(-5,20)\n",
    "plt.hist(d,a)"
   ]
  },
  {
   "cell_type": "code",
   "execution_count": 9,
   "metadata": {
    "collapsed": false
   },
   "outputs": [
    {
     "data": {
      "text/plain": [
       "[<matplotlib.lines.Line2D at 0x10f9f5b38>]"
      ]
     },
     "execution_count": 9,
     "metadata": {},
     "output_type": "execute_result"
    },
    {
     "data": {
      "image/png": "[encoded data removed]",
      "text/plain": [
       "<matplotlib.figure.Figure at 0x10f9f5898>"
      ]
     },
     "metadata": {},
     "output_type": "display_data"
    }
   ],
   "source": [
    "a=np.arange(-5,20)\n",
    "x=np.linspace(0,20,1000)\n",
    "plt.hist(d,a,normed=1)\n",
    "plt.plot(x,f(x),\"r\")"
   ]
  },
  {
   "cell_type": "code",
   "execution_count": 10,
   "metadata": {
    "collapsed": false
   },
   "outputs": [
    {
     "data": {
      "text/plain": [
       "(array([   0.,    0.,    0.,    0.,    0.,   92.,  254.,  281.,  179.,\n",
       "          75.,   57.,   29.,   11.,    2.,   12.,    8.,    0.,    0.,\n",
       "           0.,    0.,    0.,    0.,    0.,    0.]),\n",
       " array([-5, -4, -3, -2, -1,  0,  1,  2,  3,  4,  5,  6,  7,  8,  9, 10, 11,\n",
       "        12, 13, 14, 15, 16, 17, 18, 19]),\n",
       " <a list of 24 Patch objects>)"
      ]
     },
     "execution_count": 10,
     "metadata": {},
     "output_type": "execute_result"
    },
    {
     "data": {
      "image/png": "[encoded data removed]",
      "text/plain": [
       "<matplotlib.figure.Figure at 0x10feb96d8>"
      ]
     },
     "metadata": {},
     "output_type": "display_data"
    }
   ],
   "source": [
    "#DIFFERENT X \n",
    "\n",
    "def f(x):\n",
    "    return 0.5*x**2 *np.exp(-x) #Let c=1/2\n",
    "\n",
    "n=1000 #A thousand experiments\n",
    "d=np.zeros(n)\n",
    "x=10\n",
    "\n",
    "for i in range(n):\n",
    "    y=np.random.uniform(x-1,x+1,1)[0] #Let d=1\n",
    "    if y<0:\n",
    "        y=x\n",
    "    h=min(1,f(y)/f(x))\n",
    "    #print (h)\n",
    "    U=np.random.rand()\n",
    "    if U < h:\n",
    "        x=y\n",
    "    d[i]=x\n",
    "    \n",
    "a=np.arange(-5,20)\n",
    "plt.hist(d,a)"
   ]
  },
  {
   "cell_type": "code",
   "execution_count": 11,
   "metadata": {
    "collapsed": false,
    "scrolled": true
   },
   "outputs": [
    {
     "data": {
      "text/plain": [
       "(array([  0.,   0.,   0.,   0.,   0.,  21.,  78.,  74.,  44.,  36.,  32.,\n",
       "         22.,   6.,   5.,   2.,   8.,   3.,   3.,  11.,   4.,  11.,   7.,\n",
       "         10.,  16.]),\n",
       " array([-5, -4, -3, -2, -1,  0,  1,  2,  3,  4,  5,  6,  7,  8,  9, 10, 11,\n",
       "        12, 13, 14, 15, 16, 17, 18, 19]),\n",
       " <a list of 24 Patch objects>)"
      ]
     },
     "execution_count": 11,
     "metadata": {},
     "output_type": "execute_result"
    },
    {
     "data": {
      "image/png": "[encoded data removed]",
      "text/plain": [
       "<matplotlib.figure.Figure at 0x10fab6198>"
      ]
     },
     "metadata": {},
     "output_type": "display_data"
    }
   ],
   "source": [
    "#DIFFERENT X \n",
    "\n",
    "def f(x):\n",
    "    return 0.5*x**2 *np.exp(-x) #Let c=1/2\n",
    "\n",
    "n=1000 #A thousand experiments\n",
    "d=np.zeros(n)\n",
    "x=100\n",
    "\n",
    "for i in range(n):\n",
    "    y=np.random.uniform(x-1,x+1,1)[0] #Let d=1\n",
    "    if y<0:\n",
    "        y=x\n",
    "    h=min(1,f(y)/f(x))\n",
    "    #print (h)\n",
    "    U=np.random.rand()\n",
    "    if U < h:\n",
    "        x=y\n",
    "    d[i]=x\n",
    "    \n",
    "a=np.arange(-5,20)\n",
    "plt.hist(d,a)"
   ]
  },
  {
   "cell_type": "markdown",
   "metadata": {},
   "source": [
    "In this distribution, we rejected all negative values. As we take different values of $x$ for a starting point, it starts to deviate from the fuction, giving a new range of possibilites over rejection."
   ]
  },
  {
   "cell_type": "markdown",
   "metadata": {},
   "source": [
    "<hr>\n",
    "### 3. Baye's Theorem\n",
    "<br>\n",
    "• (15 Points)  As every student of probability theory will know, Bayesylvania is awash with natives, not all of whom can be trusted to tell the truth, and lost, and apparently somewhat deaf, travellers who ask the same question several times in an attempt to get directions to the nearest village.\n",
    "<br><br>\n",
    "One such traveller finds himself at a T-junction in an area populated by the Asciis and Bisciis in the ratio 11 to 5. As is well known, the Biscii always lie, but the Ascii tell the truth three quarters of the time, giving independent answers to all questions, even to immediately repeated ones.<br><br>\n",
    "(a) The traveller asks one particular native twice whether he should go to the left or to the right to reach the local village. Each time he is told ‘left’. Should he take this advice, and, if he does, what are his chances of reaching the village?<br><br>\n",
    "(b) The traveller then asks the same native the same question a third time, and for a third time receives the answer ‘left’. What should the traveller do now? Have his chances of finding the village been altered by asking the third question?"
   ]
  },
  {
   "cell_type": "markdown",
   "metadata": {},
   "source": [
    "<b><font color=\"blue\">Solution:</font></b>\n",
    "\n",
    "<b><font color=\"red\">(a)</font></b>\n",
    "\n",
    "Let us calcultate the chance of getting the same answer twice if the native is an Ascii:<br>\n",
    "<center>$\\frac{3}{4}\\frac{3}{4}+\\frac{1}{4}\\frac{1}{4}=\\frac{5}{8}$</center><br>\n",
    "If the native is a Biscii, the answer will be repeated for sure because they always lie.<br><br>Observe that the probability of finding an Ascii is $\\frac{11}{16}$ compared to $\\frac{5}{16}$ of a Biscii. Also notice that an Ascii is $9$ times more likely to tell a truth twice than to tell a lie.<br><br>\n",
    "With this information, now let us apply Bayes's theorem. Let us denote by $E$ the event of getting the same answer two times.<br><br>\n",
    "<center>$P(A|E)=\\frac{P(E|A)P(A)}{P(E|A)P(A)+P(E|B)P(B)}$\n",
    "<br><br>\n",
    "$P(A|E)=\\frac{\\frac{5}{8}\\cdot\\frac{11}{16}}{\\frac{5}{8}\\cdot\\frac{11}{16}+1\\cdot\\frac{5}{16}}$\n",
    "<br><br>\n",
    "$P(A|E)=\\frac{55}{95}$\n",
    "</center>\n",
    "<br>Now, let us calculate the combined probability of both the native being Ascii and saying the truth.\n",
    "<center>$\n",
    "\\frac{55}{95}\\cdot\\frac{9}{10}=\\frac{99}{190}\\approx 52.11\\%\n",
    "$</center>\n",
    "<br>Since this percentage is greater than $\\approx 50\\%$, the traveller should take the advice of the native.\n",
    "<br><br><br><br>\n",
    "<b><font color=\"red\">(b)</font></b>\n",
    "We repeat the calculations above, but for three times being told left.<br>\n",
    "\n",
    "The chance of getting the same answer three times if the native is an Ascii:<br>\n",
    "<center>$\\frac{3}{4}\\frac{3}{4}\\frac{3}{4}+\\frac{1}{4}\\frac{1}{4}\\frac{1}{4}=\\frac{28}{64}$</center><br><BR>\n",
    "Applying Bayes's theorem:<br>\n",
    "<center>$P(A|E)=\\frac{P(E|A)P(A)}{P(E|A)P(A)+P(E|B)P(B)}$\n",
    "<br><br>\n",
    "$P(A|E)=\\frac{\\frac{28}{64}\\cdot\\frac{11}{16}}{\\frac{28}{64}\\cdot\\frac{11}{16}+1\\cdot\\frac{5}{16}}$\n",
    "<br><br>\n",
    "$P(A|E)=\\frac{308}{628}$\n",
    "</center>\n",
    "<br>Now, let us calculate the combined probability of both the native being Ascii and saying the truth.\n",
    "<center>$\n",
    "\\frac{308}{628}\\cdot\\frac{27}{28}=\\frac{297}{628}\\approx 52.71\\%\n",
    "$</center>\n",
    "<br>The chances of finding the village by asking a third question are pretty much the same as the chances with two questions. The traveler should still take the advice of the native."
   ]
  }
 ],
 "metadata": {
  "kernelspec": {
   "display_name": "Python 3",
   "language": "python",
   "name": "python3"
  },
  "language_info": {
   "codemirror_mode": {
    "name": "ipython",
    "version": 3
   },
   "file_extension": ".py",
   "mimetype": "text/x-python",
   "name": "python",
   "nbconvert_exporter": "python",
   "pygments_lexer": "ipython3",
   "version": "3.6.0"
  }
 },
 "nbformat": 4,
 "nbformat_minor": 2
}
