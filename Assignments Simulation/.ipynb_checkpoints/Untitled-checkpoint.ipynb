{
 "cells": [
  {
   "cell_type": "code",
   "execution_count": 9,
   "metadata": {
    "collapsed": false
   },
   "outputs": [
    {
     "data": {
      "text/plain": [
       "6"
      ]
     },
     "execution_count": 9,
     "metadata": {},
     "output_type": "execute_result"
    }
   ],
   "source": [
    "import random\n",
    "N = 20\n",
    "position = 0\n",
    "for t in range(100000):\n",
    "    if random.uniform(0.0, 1.0) < 0.5:\n",
    "        position = (position + 1) % N\n",
    "    else:\n",
    "        position = (position - 1) % N\n",
    "        \n",
    "position"
   ]
  },
  {
   "cell_type": "code",
   "execution_count": 10,
   "metadata": {
    "collapsed": false
   },
   "outputs": [
    {
     "data": {
      "text/plain": [
       "0"
      ]
     },
     "execution_count": 10,
     "metadata": {},
     "output_type": "execute_result"
    }
   ],
   "source": [
    "import random\n",
    "N = 20\n",
    "position = 0\n",
    "for t in range(100000):\n",
    "    dir = random.choice([-1, 1])\n",
    "    position = (position + dir) % N\n",
    "    \n",
    "position"
   ]
  },
  {
   "cell_type": "code",
   "execution_count": 11,
   "metadata": {
    "collapsed": false
   },
   "outputs": [
    {
     "data": {
      "text/plain": [
       "10"
      ]
     },
     "execution_count": 11,
     "metadata": {},
     "output_type": "execute_result"
    }
   ],
   "source": [
    "import random\n",
    "N = 20\n",
    "position = 0\n",
    "for t in range(100000):\n",
    "    if random.uniform(0.0, 1.0) < 0.5:\n",
    "        position = (position + 1) % N\n",
    "    elif random.uniform(0.0, 1.0) > 0.5:\n",
    "        position = (position - 1) % N\n",
    "        \n",
    "position"
   ]
  },
  {
   "cell_type": "markdown",
   "metadata": {},
   "source": [
    "## Code A and code C are basically the same thing. For those two, since we are selecting the direction (based upon a random number from 0 to 1.0) from an uniform distribution, there is the same probability for both the right and the left. In code B there is only two choices, so each choice has 1/2 probability to be selected at random, therefore this code also has the same probability for both the right and the left. Then the answer is: in ALL codes the particle moves with probability 1/2 to the right and with probability 1/2 to the left."
   ]
  },
  {
   "cell_type": "code",
   "execution_count": null,
   "metadata": {
    "collapsed": true
   },
   "outputs": [],
   "source": []
  }
 ],
 "metadata": {
  "kernelspec": {
   "display_name": "Python 3",
   "language": "python",
   "name": "python3"
  },
  "language_info": {
   "codemirror_mode": {
    "name": "ipython",
    "version": 3
   },
   "file_extension": ".py",
   "mimetype": "text/x-python",
   "name": "python",
   "nbconvert_exporter": "python",
   "pygments_lexer": "ipython3",
   "version": "3.6.0"
  }
 },
 "nbformat": 4,
 "nbformat_minor": 2
}
