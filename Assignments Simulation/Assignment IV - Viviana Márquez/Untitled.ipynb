{
 "cells": [
  {
   "cell_type": "code",
   "execution_count": 4,
   "metadata": {
    "collapsed": false
   },
   "outputs": [
    {
     "name": "stdout",
     "output_type": "stream",
     "text": [
      "X = 0.0\n",
      "Y = 26.666666666666668\n",
      "The maximum is: 160.0\n"
     ]
    }
   ],
   "source": [
    "from scipy.optimize import linprog\n",
    "pofm = [-5,-6]\n",
    "pmat_1 = [[3,3],[3,2],[2,3]]\n",
    "pmat_2 = [80,220,210]\n",
    "x_bounds = y_bounds = (0, None)\n",
    "panswer = linprog(pofm, pmat_1, pmat_2, bounds=(x_bounds,y_bounds))\n",
    "print (\"X = %a\"%panswer.x[0])\n",
    "print (\"Y = %a\"%panswer.x[1])\n",
    "print (\"The maximum is: %a\"%(panswer.fun*-1))"
   ]
  },
  {
   "cell_type": "code",
   "execution_count": null,
   "metadata": {
    "collapsed": true
   },
   "outputs": [],
   "source": []
  }
 ],
 "metadata": {
  "kernelspec": {
   "display_name": "Python 3",
   "language": "python",
   "name": "python3"
  },
  "language_info": {
   "codemirror_mode": {
    "name": "ipython",
    "version": 3
   },
   "file_extension": ".py",
   "mimetype": "text/x-python",
   "name": "python",
   "nbconvert_exporter": "python",
   "pygments_lexer": "ipython3",
   "version": "3.6.0"
  }
 },
 "nbformat": 4,
 "nbformat_minor": 2
}
