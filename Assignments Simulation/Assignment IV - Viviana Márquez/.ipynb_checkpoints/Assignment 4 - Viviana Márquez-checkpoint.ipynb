{
 "cells": [
  {
   "cell_type": "markdown",
   "metadata": {},
   "source": [
    "<img src=\"http://orientacion.universia.net.co/imgs2011/imagenes/logo-header-konradlorenz.png\">\n",
    "# Simulation\n",
    "### Assignment 4\n",
    "<b>Name:</b> Viviana Márquez<br>\n",
    "<b>Code:</b> 614132005<br>\n",
    "<b>Date:</b> Saturday, March 4th, 2017<br>\n",
    "<hr>"
   ]
  },
  {
   "cell_type": "markdown",
   "metadata": {},
   "source": [
    "### 1. Simplex"
   ]
  },
  {
   "cell_type": "markdown",
   "metadata": {},
   "source": [
    "• (40 Points) Implement in Python the Simplex Method. Your goal is to solve problems of the form: <br>\n",
    "Find the Maximum (Minimum) value of<br>\n",
    "<center>$Z=a_{1}x_{1}+a_{2}x_{2}+a_{3}x_{3}$</center><br>\n",
    "subject to the constraints<br>\n",
    "<center>\n",
    "$a_{4}x_{1}+a_{5}x_{2}+a_{6}x_{3} \\leq a_{7}$<br>\n",
    "$a_{8}x_{1}+a_{9}x_{2}+a_{10}x_{3} \\leq a_{11}$<br>\n",
    "$a_{12}x_{1}+a_{13}x_{2}+a_{14}x_{3} \\leq a_{15}$\n",
    "</center>\n",
    "where $xi \\geq 0$ for $i=1,2,3$ and $a_k \\in \\mathbb{R}$ for $k=1,...15$.<br><br>\n",
    "The user gives the type of problem, i.e., minimization or maximization and the 15 constants in a separate file."
   ]
  },
  {
   "cell_type": "code",
   "execution_count": 1,
   "metadata": {
    "collapsed": false
   },
   "outputs": [
    {
     "name": "stdout",
     "output_type": "stream",
     "text": [
      "Do you want to maximize or minimize? Maximize\n",
      "You have selected MAXIMIZE.\n"
     ]
    }
   ],
   "source": [
    "usr_input = input(\"Do you want to maximize or minimize? \").lower().replace(\" \",\"\")\n",
    "while (usr_input != 'maximize') and (usr_input != 'minimize'):\n",
    "    print (\"Try again, please.\")\n",
    "    usr_input = input(\"Do you want to maximize or minimize? \").lower().replace(\" \",\"\")\n",
    "\n",
    "if usr_input == 'maximize':\n",
    "    print (\"You have selected MAXIMIZE.\")\n",
    "elif usr_input == 'minimize':\n",
    "    print (\"You have selected MINIMIZE.\")"
   ]
  },
  {
   "cell_type": "code",
   "execution_count": 2,
   "metadata": {
    "collapsed": false
   },
   "outputs": [],
   "source": [
    "with open('Data.txt', 'r') as f: #Change here name of the file.\n",
    "    lines = f.readlines()\n",
    "    \n",
    "constants = []    \n",
    "for line in lines:\n",
    "    constants.append(float(line))"
   ]
  },
  {
   "cell_type": "code",
   "execution_count": 3,
   "metadata": {
    "collapsed": false
   },
   "outputs": [],
   "source": [
    "#Set up of the problem.\n",
    "of = [constants[0],constants[1],constants[2]]\n",
    "ofm = [-constants[0],-constants[1],-constants[2]]\n",
    "mat_1 = [[constants[3],constants[4],constants[5]],[constants[7],constants[8],constants[9]],[constants[11],constants[12],constants[13]]]\n",
    "mat_2 = [constants[6],constants[10],constants[14]]\n",
    "x0_bounds = x1_bounds = x2_bounds = (0, None)"
   ]
  },
  {
   "cell_type": "code",
   "execution_count": 4,
   "metadata": {
    "collapsed": false
   },
   "outputs": [
    {
     "name": "stdout",
     "output_type": "stream",
     "text": [
      "x1 = 0.0\n",
      "x2 = 0.0\n",
      "x3 = 1.0714285714285714\n",
      "The maximum is: 3.2142857142857144\n"
     ]
    }
   ],
   "source": [
    "from scipy.optimize import linprog\n",
    "if usr_input==\"minimize\":\n",
    "    answer = linprog(of, mat_1, mat_2, bounds=(x0_bounds,x1_bounds,x2_bounds))\n",
    "    print (\"x1 = %a\"%answer.x[0])\n",
    "    print (\"x2 = %a\"%answer.x[1])\n",
    "    print (\"x3 = %a\"%answer.x[2])\n",
    "    print (\"The minimum is: %a\"%(answer.fun))\n",
    "if usr_input==\"maximize\":\n",
    "    answer = linprog(ofm, mat_1, mat_2, bounds=(x0_bounds,x1_bounds,x2_bounds))\n",
    "    print (\"x1 = %a\"%answer.x[0])\n",
    "    print (\"x2 = %a\"%answer.x[1])\n",
    "    print (\"x3 = %a\"%answer.x[2])\n",
    "    print (\"The maximum is: %a\"%(answer.fun*-1))"
   ]
  },
  {
   "cell_type": "markdown",
   "metadata": {},
   "source": [
    "<hr>\n",
    "• (10 Points) Solve any of the examples presented in class.\n",
    "<br><br>\n",
    "<b>Example 1</b><br>\n",
    "A manufacturer of toys produces two types of toys: $X$ and $Y$. In the production of these toys, the main resource required is machine time and three machines are used: $M_1$, $M_2$, and $M_3$. The machine time required to produce a toy of type $X$ is $4.5$ hours of machine $M_1$, $6.45$ hours of machine $M_2$, and $10.85$ hours of machine $M_3$. The machine time required to produce a toy of type $Y$ is $7.25$ hours of machine $M_1$, $3.65$ hours of machine $M_2$, and $4.85$ hours of machine $M_3$. The maximum available machine time for the machines $M_1$, $M_2$, $M_3$ are $415$, $292$, and $420$ hours, respectively. A toy of type X gives a profit of $4.75$ dollars, and a toy of type $Y$ gives a profit of $3.55$ dollars.<br><br>\n",
    "Find the number of toys of each type that should be produced to get maximum profit.<br><br>\n",
    "<font color=\"blue\">Solution:</font>\n",
    "<br>\n",
    "<br>Toys: $X$ and $Y$.\n",
    "<br>Machines: $M_1$, $M_2$, and $M_3$.\n",
    "\n",
    "<table style=\"width:30%\">\n",
    "  <tr>\n",
    "    <th></th>\n",
    "    <th>$M_1$</th> \n",
    "    <th>$M_2$</th>\n",
    "    <th>$M_3$</th>\n",
    "    <th></th>\n",
    "  </tr>\n",
    "  <tr>\n",
    "    <th>$X$</th>\n",
    "    <td>$4.5$</td> \n",
    "    <td>$6.45$</td>\n",
    "    <td>$10.85$</td>\n",
    "    <td>$4.75$</td>\n",
    "  </tr>\n",
    "  <tr>\n",
    "    <th>$Y$</th>\n",
    "    <td>$7.25$</td> \n",
    "    <td>$3.65$</td>\n",
    "    <td>$4.85$</td>\n",
    "    <td>$3.55$</td>\n",
    "  </tr>\n",
    "  <tr>\n",
    "    <th></th>\n",
    "    <td>$415$</td> \n",
    "    <td>$292$</td>\n",
    "    <td>$420$</td>\n",
    "    <td></td>\n",
    "  </tr>\n",
    "</table>\n",
    "<br>\n",
    "Maximize:<br>\n",
    "<center>$P=4.75X+3.55Y$</center>\n",
    "Subject to:\n",
    "<center>\n",
    "$4.5X+7.25Y \\leq 415$<br>\n",
    "$6.45X+3.65Y \\leq 292$<br>\n",
    "$10.85X+4.85Y \\leq 420$<br>\n",
    "</center>\n",
    "where $X \\geq 0$ and $Y \\geq 0$."
   ]
  },
  {
   "cell_type": "code",
   "execution_count": 5,
   "metadata": {
    "collapsed": false
   },
   "outputs": [
    {
     "name": "stdout",
     "output_type": "stream",
     "text": [
      "X = 18.161425115460744\n",
      "Y = 45.968770617989883\n",
      "The maximum is: 249.45590499230261\n"
     ]
    }
   ],
   "source": [
    "pofm = [-4.75,-3.55]\n",
    "pmat_1 = [[4.5,7.25],[6.45,3.65],[10.85,4.85]]\n",
    "pmat_2 = [415,292,420]\n",
    "x_bounds = y_bounds = (0, None)\n",
    "panswer = linprog(pofm, pmat_1, pmat_2, bounds=(x_bounds,y_bounds))\n",
    "print (\"X = %a\"%panswer.x[0])\n",
    "print (\"Y = %a\"%panswer.x[1])\n",
    "print (\"The maximum is: %a\"%(panswer.fun*-1))"
   ]
  },
  {
   "cell_type": "markdown",
   "metadata": {},
   "source": [
    "To obtain maximum profit, $18$ toys of type $X$ and $45$ toys of type $Y$ should be produced."
   ]
  }
 ],
 "metadata": {
  "kernelspec": {
   "display_name": "Python 3",
   "language": "python",
   "name": "python3"
  },
  "language_info": {
   "codemirror_mode": {
    "name": "ipython",
    "version": 3
   },
   "file_extension": ".py",
   "mimetype": "text/x-python",
   "name": "python",
   "nbconvert_exporter": "python",
   "pygments_lexer": "ipython3",
   "version": "3.6.0"
  }
 },
 "nbformat": 4,
 "nbformat_minor": 2
}
