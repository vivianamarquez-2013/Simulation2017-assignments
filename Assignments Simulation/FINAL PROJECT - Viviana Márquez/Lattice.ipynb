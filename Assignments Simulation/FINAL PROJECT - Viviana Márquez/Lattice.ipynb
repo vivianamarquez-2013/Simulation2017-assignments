{
 "cells": [
  {
   "cell_type": "code",
   "execution_count": null,
   "metadata": {
    "collapsed": true
   },
   "outputs": [],
   "source": [
    "import numpy as np\n",
    "import matplotlib.pyplot as plt\n",
    "\n",
    "plt.figure(figsize=(8,8), dpi=80)\n",
    "plt.subplot(111)\n",
    "\n",
    "X = np.linspace(-np.pi, np.pi, 256,endpoint=True)\n",
    "\n",
    "numbers = list(range(-4, 5))\n",
    "\n",
    "for i in numbers:\n",
    "    for j in numbers:\n",
    "        plt.plot(numbers[j], i, 'mo')\n",
    "\n",
    "ax = plt.gca()\n",
    "ax.spines['right'].set_color('none')\n",
    "ax.spines['top'].set_color('none')\n",
    "ax.xaxis.set_ticks_position('bottom')\n",
    "ax.spines['bottom'].set_position(('data',0))\n",
    "ax.yaxis.set_ticks_position('left')\n",
    "ax.spines['left'].set_position(('data',0))\n",
    "\n",
    "plt.xticks([-4, -3, -2, -1, 0, 1, 2, 3, 4],\n",
    "          [r'$-4$', r'$-3$', r'$-2$', r'$-1$', r'$0$', r'$1$', r'$2$', r'$3$', r'$4$'])\n",
    "\n",
    "plt.yticks([ -4, -3, -2, -1, 0, 1, 2, 3, 4],\n",
    "          [r'$-4i$', r'$-3i$', r'$-2i$', r'$-1i$', r'', r'$1i$', r'$2i$', r'$3i$', r'$4i$'])\n",
    "\n",
    "plt.xlabel(r'Real Axis', fontsize=11)\n",
    "ax.xaxis.set_label_coords(0.96, 0.54)\n",
    "plt.ylabel(r'Imaginary Axis', fontsize=11).set_rotation(0)\n",
    "ax.yaxis.set_label_coords(0.61, 0.97)\n",
    "\n",
    "plt.title(r'Gaussian Integers $\\mathbb{Z}[i]$', fontsize=15)\n",
    "\n",
    "plt.show()"
   ]
  }
 ],
 "metadata": {
  "kernelspec": {
   "display_name": "Python 3",
   "language": "python",
   "name": "python3"
  },
  "language_info": {
   "codemirror_mode": {
    "name": "ipython",
    "version": 3
   },
   "file_extension": ".py",
   "mimetype": "text/x-python",
   "name": "python",
   "nbconvert_exporter": "python",
   "pygments_lexer": "ipython3",
   "version": "3.6.0"
  }
 },
 "nbformat": 4,
 "nbformat_minor": 2
}
