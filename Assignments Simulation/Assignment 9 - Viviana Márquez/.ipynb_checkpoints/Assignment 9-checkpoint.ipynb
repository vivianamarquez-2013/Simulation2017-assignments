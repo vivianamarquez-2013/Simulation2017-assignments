{
 "cells": [
  {
   "cell_type": "markdown",
   "metadata": {},
   "source": [
    "<img src=\"http://orientacion.universia.net.co/imgs2011/imagenes/logo-header-konradlorenz.png\">\n",
    "# Simulation\n",
    "### Assignment 9\n",
    "<b>Name:</b> Viviana Márquez<br>\n",
    "<b>Code:</b> 614132005<br>\n",
    "<b>Date:</b> Saturday, May 9, 2017<br>\n",
    "<hr>"
   ]
  },
  {
   "cell_type": "markdown",
   "metadata": {},
   "source": [
    "### 1. Direct sampling"
   ]
  },
  {
   "cell_type": "markdown",
   "metadata": {},
   "source": [
    "• (15 Points) Let us image a simple game, similar to the one Laura played on the board a couple of weeks ago. In the board, you will first draw a large circle and a square exactly containing it. Then you will randomly throw darts. Each dart hitting inside the square constitutes a trial, and darts inside the circle are also counted as hits. By keeping track of the numbers of trials and hits, you are performing a direct-sampling Monte Carlo calculation: the ratio of hits to trials is close to the ratio of the areas of the circle and the square, i.e., $\\frac{\\pi}{4}$.<br>\n",
    "\n",
    "Code up the game and perform many runs to estimate $\\pi$ and compute the root mean square ($rms$) deviation:<br>\n",
    "<center>$rms=\\sqrt{\\frac{1}{n_{runs}}\\sum\\limits_{i=0}^{n_{runs}-1}(\\pi_i^{est}-\\pi)^2}$</center>\n",
    "<br>\n",
    "where $\\pi^{est}_i$ is the estimation of $pi$ in run $i$. Plot the results for different numbers of trials. If you plot in Log-Log scale you must find a straight line, fit the curve obtained and comment on the significance of the parameters of the line."
   ]
  },
  {
   "cell_type": "code",
   "execution_count": 1,
   "metadata": {
    "collapsed": true
   },
   "outputs": [],
   "source": [
    "import numpy as np\n",
    "import matplotlib.pyplot as plt\n",
    "import matplotlib as mpl\n",
    "from mpl_toolkits.mplot3d import Axes3D\n",
    "%matplotlib inline "
   ]
  },
  {
   "cell_type": "code",
   "execution_count": 2,
   "metadata": {
    "collapsed": true
   },
   "outputs": [],
   "source": [
    "def fun(x,y): #Let us define the function for the integral\n",
    "    return (x**2)+(y**2)"
   ]
  },
  {
   "cell_type": "code",
   "execution_count": 3,
   "metadata": {
    "collapsed": false
   },
   "outputs": [],
   "source": [
    "def pi(n):\n",
    "    x = np.random.uniform(0,1,n)\n",
    "    y = np.random.uniform(0,1,n)\n",
    "    hits = sum(fun(x,y)<1)\n",
    "    return 4*hits/n #We are multiplying by four because we are calculating a fourth of the circle."
   ]
  },
  {
   "cell_type": "code",
   "execution_count": 4,
   "metadata": {
    "collapsed": false
   },
   "outputs": [],
   "source": [
    "pi_est = []\n",
    "n=1000\n",
    "runs = 10000\n",
    "\n",
    "for i in range(1,runs):\n",
    "    pi_est.append(pi(n))"
   ]
  },
  {
   "cell_type": "code",
   "execution_count": 5,
   "metadata": {
    "collapsed": false
   },
   "outputs": [
    {
     "name": "stdout",
     "output_type": "stream",
     "text": [
      "The rms is: 0.0523823379555\n"
     ]
    }
   ],
   "source": [
    "suma = 0    \n",
    "for i in range (0,runs-1):\n",
    "    suma = suma + ((pi_est[i]-np.pi)**2)\n",
    "rms = np.sqrt((1/runs)*suma)\n",
    "print (\"The rms is:\",rms)"
   ]
  },
  {
   "cell_type": "code",
   "execution_count": 6,
   "metadata": {
    "collapsed": false
   },
   "outputs": [
    {
     "data": {
      "image/png": "[encoded data removed]",
      "text/plain": [
       "<matplotlib.figure.Figure at 0x11063dcc0>"
      ]
     },
     "metadata": {},
     "output_type": "display_data"
    }
   ],
   "source": [
    "ns = [10,100,1000,10000,100000,1000000]\n",
    "x = []\n",
    "for i in ns:\n",
    "    x.append(pi(i))\n",
    "    \n",
    "plt.plot(x,'m*')\n",
    "plt.axhline(np.pi,color=\"orange\")\n",
    "plt.show()"
   ]
  },
  {
   "cell_type": "code",
   "execution_count": 7,
   "metadata": {
    "collapsed": false,
    "scrolled": true
   },
   "outputs": [
    {
     "data": {
      "image/png": "[encoded data removed]",
      "text/plain": [
       "<matplotlib.figure.Figure at 0x10fc4c978>"
      ]
     },
     "metadata": {},
     "output_type": "display_data"
    }
   ],
   "source": [
    "x = list(range(1,runs))\n",
    "y = sorted(pi_est)\n",
    "#plt.plot(x,y,'m*')\n",
    "plt.loglog(x,y,'m')\n",
    "plt.ylim([10**-4, 10**4])\n",
    "#plt.axhline(np.pi,color=\"orange\") \n",
    "plt.show()"
   ]
  },
  {
   "cell_type": "code",
   "execution_count": 8,
   "metadata": {
    "collapsed": false,
    "scrolled": true
   },
   "outputs": [
    {
     "data": {
      "image/png": "[encoded data removed]",
      "text/plain": [
       "<matplotlib.figure.Figure at 0x11590cd68>"
      ]
     },
     "metadata": {},
     "output_type": "display_data"
    }
   ],
   "source": [
    "from scipy.optimize import curve_fit\n",
    "\n",
    "def func(x, a, b):\n",
    "    return (a * x) + b\n",
    "\n",
    "popt, pcov = curve_fit(func, x, y)\n",
    "\n",
    "x_2 = np.linspace(0, runs, 10000)\n",
    "y_2 = func(x_2, popt[0], popt[1])\n",
    "\n",
    "\n",
    "plt.loglog(x,y,'m')\n",
    "plt.loglog(x_2,y_2,'--', color='blue',label='Fitted function')\n",
    "plt.ylim([10**-4, 10**4])\n",
    "plt.legend()\n",
    "plt.show()"
   ]
  },
  {
   "cell_type": "code",
   "execution_count": 9,
   "metadata": {
    "collapsed": false
   },
   "outputs": [
    {
     "name": "stdout",
     "output_type": "stream",
     "text": [
      "a = 1.77230490091e-05 +/- 3.90702178997e-08\n",
      "b = 3.05307812429 +/- 0.000225566368788\n",
      "The first paramenter let us know that there is little error. The second parameter is close to the value of Pi.\n"
     ]
    }
   ],
   "source": [
    "print (\"a =\", popt[0], \"+/-\", pcov[0,0]**0.5)\n",
    "print (\"b =\", popt[1], \"+/-\", pcov[1,1]**0.5)\n",
    "print (\"The first paramenter let us know that there is little error. The second parameter is close to the value of Pi.\")"
   ]
  },
  {
   "cell_type": "markdown",
   "metadata": {
    "collapsed": false
   },
   "source": [
    "<hr>\n",
    "### 2. Markov-chain sampling"
   ]
  },
  {
   "cell_type": "markdown",
   "metadata": {
    "collapsed": true
   },
   "source": [
    "• (35 Points) Let us imagine another simple game. This time with you in a very wide square-shaped field, again with a circle on it. The idea now is that with closed eyes you will throw a stone in a random direction, and then walk to where this stone has landed. At that position, a new stone is fetched and a new throw follows. As before, the aim of the game is to sweep out the square evenly in order to compute the number $\\pi$, but the distance that you can cover from where you stand is much smaller than the dimensions of the field. A problem arises whenever there is a rejection, i.e., when at a point $p$ near the boundary of the square-shaped domain, you has just thrown a stone to a position outside the domain. In this case where you stand, there is already a stone on the ground, so you should now ask someone to bring the “outfielder”, place it on top of the stone already on the ground, and use a new stone to try another fling. If this is again an “outfielder”, you should have it fetched and increase the pile by one again, etc. Eventually, you will move on, visit other areas of the field, and also get close to the centre, which is without rejections.<br><br>\n",
    "Code up the game and perform many runs to estimate $\\pi$. Bear in mind that the throwing range $\\delta$ must be kept fixed throughout the simulation. Compute the root mean square ($rms$) again. Plot the results for different numbers of trials. Is it better the estimation than before? Why? Does the estimation depend on $\\delta$? Why?"
   ]
  },
  {
   "cell_type": "code",
   "execution_count": 10,
   "metadata": {
    "collapsed": false
   },
   "outputs": [],
   "source": [
    "pi_est_new = []\n",
    "\n",
    "def markov(n,r,d):\n",
    "    data=[]\n",
    "    for jj in range(r):\n",
    "        nhits = 0\n",
    "        x = 1\n",
    "        y = 1\n",
    "        for ii in range(n):\n",
    "            dx = np.random.uniform(-d,d)\n",
    "            dy = np.random.uniform(-d,d)\n",
    "            if (abs(x+dx) < 1 and abs(y+dy)<1):\n",
    "                x=x+dx\n",
    "                y=y+dy\n",
    "            if fun(x,y) < 1:\n",
    "                nhits= nhits + 1\n",
    "        pi_est_new.append(4.0*nhits/n) #We are multiplying by four because we are calculating a fourth of the circle.\n",
    "        data.append([jj,nhits])\n",
    "    return data\n",
    "        \n",
    "n=1000\n",
    "runs = 10000\n",
    "d = 1\n",
    "hits=markov(n,runs,d)"
   ]
  },
  {
   "cell_type": "code",
   "execution_count": 11,
   "metadata": {
    "collapsed": false
   },
   "outputs": [
    {
     "name": "stdout",
     "output_type": "stream",
     "text": [
      "The rms is: 0.107454355945\n"
     ]
    }
   ],
   "source": [
    "suma = 0    \n",
    "for i in range (0,runs-1):\n",
    "    suma = suma + ((pi_est_new[i]-np.pi)**2)\n",
    "rms = np.sqrt((1/runs)*suma)\n",
    "print (\"The rms is:\",rms)"
   ]
  },
  {
   "cell_type": "code",
   "execution_count": 12,
   "metadata": {
    "collapsed": false
   },
   "outputs": [
    {
     "data": {
      "image/png": "[encoded data removed]",
      "text/plain": [
       "<matplotlib.figure.Figure at 0x11744ef98>"
      ]
     },
     "metadata": {},
     "output_type": "display_data"
    }
   ],
   "source": [
    "x = list(range(0,runs))\n",
    "y = sorted(pi_est_new)\n",
    "#plt.plot(x,y,'m*')\n",
    "plt.loglog(x,y,'m')\n",
    "plt.ylim([10**-4, 10**4])\n",
    "#plt.axhline(np.pi,color=\"orange\")\n",
    "plt.show()"
   ]
  },
  {
   "cell_type": "markdown",
   "metadata": {},
   "source": [
    "By looking at the grpahs, it seems that the approximation of both experiments is just about the same (setting $\\delta =1$ for the Markov experiment). But the first experiment gives a better approximation because its $rms$ value is closer to $0$, therefore it has less errors. Observe that Markov estimation depends highly on the $\\delta$. If I set $\\delta = 100$, then $rms = 3.055$, which is a really bad figure. "
   ]
  }
 ],
 "metadata": {
  "kernelspec": {
   "display_name": "Python 3",
   "language": "python",
   "name": "python3"
  },
  "language_info": {
   "codemirror_mode": {
    "name": "ipython",
    "version": 3
   },
   "file_extension": ".py",
   "mimetype": "text/x-python",
   "name": "python",
   "nbconvert_exporter": "python",
   "pygments_lexer": "ipython3",
   "version": "3.6.0"
  }
 },
 "nbformat": 4,
 "nbformat_minor": 2
}
