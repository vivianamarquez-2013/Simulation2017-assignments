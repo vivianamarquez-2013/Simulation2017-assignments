{
 "cells": [
  {
   "cell_type": "markdown",
   "metadata": {},
   "source": [
    "<img src=\"http://noticias.universia.net.co/co/images/docentes/k/ko/kon/konrad.jpg\">\n",
    "# Simulation\n",
    "### Final Exam\n",
    "<b>Name:</b> Viviana Márquez<br>\n",
    "<b>Code:</b> 614132005<br>\n",
    "<b>Date:</b> Saturday, May 27, 2017<br>\n",
    "<hr>"
   ]
  },
  {
   "cell_type": "code",
   "execution_count": 1,
   "metadata": {
    "collapsed": true
   },
   "outputs": [],
   "source": [
    "import math\n",
    "import numpy as np\n",
    "import matplotlib.pyplot as plt\n",
    "import matplotlib as mpl\n",
    "from mpl_toolkits.mplot3d import Axes3D\n",
    "%matplotlib inline "
   ]
  },
  {
   "cell_type": "markdown",
   "metadata": {},
   "source": [
    "<hr>\n",
    "### 1.  Multiplicative Linear Congruential Methods"
   ]
  },
  {
   "cell_type": "code",
   "execution_count": 2,
   "metadata": {
    "collapsed": false
   },
   "outputs": [
    {
     "name": "stdout",
     "output_type": "stream",
     "text": [
      "False\n"
     ]
    }
   ],
   "source": [
    "semilla = 813754\n",
    "x = []\n",
    "u = []\n",
    "m = 10\n",
    "a = 10\n",
    "c = 10 \n",
    "\n",
    "x.append((a*semilla+c)%m)\n",
    "\n",
    "for i in range(0, 1000):\n",
    "    u.append(x[i]/m)\n",
    "    x.append((a*x[i]+c)%m)\n",
    "    \n",
    "print (semilla in x)"
   ]
  },
  {
   "cell_type": "markdown",
   "metadata": {},
   "source": [
    "Para el $a$ y el $c$ escogí $10$, igual que el módulo, para que la secuencia se convirtiera en sólo ceros, de tal manera nunca más volviera aparecer la semilla."
   ]
  },
  {
   "cell_type": "markdown",
   "metadata": {
    "collapsed": false
   },
   "source": [
    "<hr>\n",
    "### 2. Theoretical aspects of the Metropolis-Hastings Algorithm"
   ]
  },
  {
   "cell_type": "markdown",
   "metadata": {
    "collapsed": false
   },
   "source": [
    "<b>Why does the Metropolis-Hastings Algorithm works?</b><br>\n",
    "\n",
    "Estudiamos la probabilidad $P = \\dfrac{\\#}{\\Omega}$. Nos damos cuenta que la probabilidad de cada una de las casillas es $\\pi(a), \\pi(b), ..., \\pi(i)=\\dfrac{1}{9}$ si son distribuidas de manera uniforme, es decir que estamos recorriendo todo el espacio de la misma manera.<br><br>\n",
    "Como el algorítmo de Metropolis está basado en Markov Chains, la idea es construir una cádena de Markov que converja a la distibución dada como una distribución estacionaria. Es decir, el objetivo es construir una cádena de Markov con una probabilidad de transición $P(x\\to y)$ tal que $\\pi(x)$ sea la distribución estacionaria.<br><br>\n",
    "Construimos la matrix de transición.<br>\n",
    "<center>\n",
    "$\n",
    "P = \n",
    "\\begin{bmatrix}\n",
    "P(1\\to1) &  P(2\\to1)&  P(3\\to1)& ...\\\\ \n",
    "P(1\\to2)  &  P(2\\to2)&  P(3\\to2)& ... \\\\ \n",
    " \\ddots&  &  & \\\\ \n",
    "&  & ... &P(n\\to n) \n",
    "\\end{bmatrix}\n",
    "$\n",
    "</center>\n",
    "<br>\n",
    "Se satisface que $P(x,y)\\geq 0$ y $\\sum P(y\\to x) =1$, para todo el espacio muestral. Tenemos que $\\pi(y) = \\sum \\pi(x) P(x \\to y)$. Eso implica que $\\pi(y) P(y \\to x)= \\pi(x) P(x \\to y)$. Es decir, la cádena es irreducible y las probabilidades son balanceadas.\n",
    "<br><br>\n",
    "(Como el ejemplo de las casillas blancas que se convertian en naranjas que hicimos en clase)."
   ]
  },
  {
   "cell_type": "markdown",
   "metadata": {},
   "source": [
    "<hr>\n",
    "### 3. Markov-Chain Monte Carlo Implementation\n"
   ]
  },
  {
   "cell_type": "code",
   "execution_count": 3,
   "metadata": {
    "collapsed": true
   },
   "outputs": [],
   "source": [
    "def V_bubble(dim):\n",
    "    return math.pi ** (dim / 2.0) / math.gamma((dim / 2.0) + 1.0)"
   ]
  },
  {
   "cell_type": "code",
   "execution_count": 4,
   "metadata": {
    "collapsed": false
   },
   "outputs": [
    {
     "name": "stdout",
     "output_type": "stream",
     "text": [
      "Volume in 1 dimension\n"
     ]
    },
    {
     "data": {
      "text/plain": [
       "2.0"
      ]
     },
     "execution_count": 4,
     "metadata": {},
     "output_type": "execute_result"
    }
   ],
   "source": [
    "def fun(x): #Let us define the function\n",
    "    return (x**2)\n",
    "\n",
    "pi_est_new = []\n",
    "\n",
    "def markov(n,r,d):\n",
    "    data=[]\n",
    "    for jj in range(r):\n",
    "        nhits = 0\n",
    "        x = 0\n",
    "        for ii in range(n):\n",
    "            dx = np.random.uniform(-d,d)\n",
    "            if (abs(x+dx) < 1):\n",
    "                x=x+dx\n",
    "            if fun(x) < 1:\n",
    "                nhits= nhits + 1\n",
    "        pi_est_new.append(2.0*nhits/n)\n",
    "        data.append([jj,nhits])\n",
    "    return data\n",
    "        \n",
    "n=1000\n",
    "runs = 1000\n",
    "d = 1.5 #delta\n",
    "hits=markov(n,runs,d)\n",
    "print ('Volume in 1 dimension')\n",
    "np.average(pi_est_new)"
   ]
  },
  {
   "cell_type": "code",
   "execution_count": 6,
   "metadata": {
    "collapsed": false
   },
   "outputs": [
    {
     "data": {
      "text/plain": [
       "1.9999999999999998"
      ]
     },
     "execution_count": 6,
     "metadata": {},
     "output_type": "execute_result"
    }
   ],
   "source": [
    "V_bubble(1) #My code gives a better answer than the analytic code haha"
   ]
  },
  {
   "cell_type": "code",
   "execution_count": 7,
   "metadata": {
    "collapsed": false
   },
   "outputs": [
    {
     "name": "stdout",
     "output_type": "stream",
     "text": [
      "Volume in 2 dimensions\n"
     ]
    },
    {
     "data": {
      "text/plain": [
       "3.1394120000000001"
      ]
     },
     "execution_count": 7,
     "metadata": {},
     "output_type": "execute_result"
    }
   ],
   "source": [
    "def fun(x,y): #Let us define the function\n",
    "    return (x**2)+(y**2)\n",
    "\n",
    "pi_est_new = []\n",
    "\n",
    "def markov(n,r,d):\n",
    "    data=[]\n",
    "    for jj in range(r):\n",
    "        nhits = 0\n",
    "        x = 0\n",
    "        y = 0\n",
    "        for ii in range(n):\n",
    "            dx = np.random.uniform(-d,d)\n",
    "            dy = np.random.uniform(-d,d)\n",
    "            if (abs(x+dx) < 1 and abs(y+dy)<1):\n",
    "                x=x+dx\n",
    "                y=y+dy\n",
    "            if fun(x,y) < 1:\n",
    "                nhits= nhits + 1\n",
    "        pi_est_new.append(4.0*nhits/n) #We are multiplying by four because we are calculating a fourth of the circle.\n",
    "        data.append([jj,nhits])\n",
    "    return data\n",
    "        \n",
    "n=1000\n",
    "runs = 1000\n",
    "d = 1.5 #delta\n",
    "hits=markov(n,runs,d)\n",
    "print ('Volume in 2 dimensions')\n",
    "np.average(pi_est_new)"
   ]
  },
  {
   "cell_type": "code",
   "execution_count": 8,
   "metadata": {
    "collapsed": false
   },
   "outputs": [
    {
     "data": {
      "text/plain": [
       "3.141592653589793"
      ]
     },
     "execution_count": 8,
     "metadata": {},
     "output_type": "execute_result"
    }
   ],
   "source": [
    "V_bubble(2)"
   ]
  },
  {
   "cell_type": "code",
   "execution_count": 9,
   "metadata": {
    "collapsed": false
   },
   "outputs": [
    {
     "name": "stdout",
     "output_type": "stream",
     "text": [
      "Volume in 3 dimensions\n"
     ]
    },
    {
     "data": {
      "text/plain": [
       "4.1635200000000001"
      ]
     },
     "execution_count": 9,
     "metadata": {},
     "output_type": "execute_result"
    }
   ],
   "source": [
    "def fun(x,y,z): #Let us define the function\n",
    "    return (x**2)+(y**2)+(z**2)\n",
    "\n",
    "pi_est_new = []\n",
    "\n",
    "def markov(n,r,d):\n",
    "    data=[]\n",
    "    for jj in range(r):\n",
    "        nhits = 0\n",
    "        x = 0\n",
    "        y = 0\n",
    "        z = 0\n",
    "        for ii in range(n):\n",
    "            dx = np.random.uniform(-d,d)\n",
    "            dy = np.random.uniform(-d,d)\n",
    "            dz = np.random.uniform(-d,d)\n",
    "            if (abs(x+dx) < 1 and abs(y+dy)<1 and abs(z+dz)<1):\n",
    "                x=x+dx\n",
    "                y=y+dy\n",
    "                z=z+dy\n",
    "            if fun(x,y,z) < 1:\n",
    "                nhits= nhits + 1\n",
    "        pi_est_new.append(8.0*nhits/n)\n",
    "        data.append([jj,nhits])\n",
    "    return data\n",
    "        \n",
    "n=1000\n",
    "runs = 1000\n",
    "d = 1.5 #delta\n",
    "hits=markov(n,runs,d)\n",
    "print (r'Volume in 3 dimensions')\n",
    "np.average(pi_est_new)"
   ]
  },
  {
   "cell_type": "code",
   "execution_count": 10,
   "metadata": {
    "collapsed": false
   },
   "outputs": [
    {
     "data": {
      "text/plain": [
       "4.1887902047863905"
      ]
     },
     "execution_count": 10,
     "metadata": {},
     "output_type": "execute_result"
    }
   ],
   "source": [
    "V_bubble(3)"
   ]
  },
  {
   "cell_type": "code",
   "execution_count": 11,
   "metadata": {
    "collapsed": false
   },
   "outputs": [
    {
     "name": "stdout",
     "output_type": "stream",
     "text": [
      "Volume in 4 dimensions\n"
     ]
    },
    {
     "data": {
      "text/plain": [
       "5.0103039999999996"
      ]
     },
     "execution_count": 11,
     "metadata": {},
     "output_type": "execute_result"
    }
   ],
   "source": [
    "def fun(x,y,z,a): #Let us define the function\n",
    "    return (x**2)+(y**2)+(z**2)+(a**2)\n",
    "\n",
    "pi_est_new = []\n",
    "\n",
    "def markov(n,r,d):\n",
    "    data=[]\n",
    "    for jj in range(r):\n",
    "        nhits = 0\n",
    "        x = 0\n",
    "        y = 0\n",
    "        z = 0\n",
    "        a = 0\n",
    "        for ii in range(n):\n",
    "            dx = np.random.uniform(-d,d)\n",
    "            dy = np.random.uniform(-d,d)\n",
    "            dz = np.random.uniform(-d,d)\n",
    "            da = np.random.uniform(-d,d)\n",
    "            if (abs(x+dx) < 1 and abs(y+dy)<1 and abs(z+dz)<1 and abs(a+da)<1):\n",
    "                x=x+dx\n",
    "                y=y+dy\n",
    "                z=z+dy\n",
    "                a=a+da\n",
    "            if fun(x,y,z,a) < 1:\n",
    "                nhits= nhits + 1\n",
    "        pi_est_new.append(16.0*nhits/n)\n",
    "        data.append([jj,nhits])\n",
    "    return data\n",
    "        \n",
    "n=1000\n",
    "runs = 1000\n",
    "d = 1 #delta\n",
    "hits=markov(n,runs,d)\n",
    "print (r'Volume in 4 dimensions')\n",
    "np.average(pi_est_new)"
   ]
  },
  {
   "cell_type": "code",
   "execution_count": 12,
   "metadata": {
    "collapsed": false
   },
   "outputs": [
    {
     "data": {
      "text/plain": [
       "4.934802200544679"
      ]
     },
     "execution_count": 12,
     "metadata": {},
     "output_type": "execute_result"
    }
   ],
   "source": [
    "V_bubble(4)"
   ]
  },
  {
   "cell_type": "code",
   "execution_count": 13,
   "metadata": {
    "collapsed": false
   },
   "outputs": [
    {
     "name": "stdout",
     "output_type": "stream",
     "text": [
      "Volume in 7 dimensions\n"
     ]
    },
    {
     "data": {
      "text/plain": [
       "4.7774720000000004"
      ]
     },
     "execution_count": 13,
     "metadata": {},
     "output_type": "execute_result"
    }
   ],
   "source": [
    "def fun(x_1,x_2,x_3,x_4,x_5,x_6,x_7): #Let us define the function\n",
    "    return (x_1**2)+(x_2**2)+(x_3**2)+(x_4**2)+(x_5**2)+(x_6**2)+(x_7**2)\n",
    "\n",
    "pi_est_new = []\n",
    "\n",
    "def markov(n,r,d):\n",
    "    data=[]\n",
    "    for jj in range(r):\n",
    "        nhits = 0\n",
    "        x_1 = 0\n",
    "        x_2 = 0\n",
    "        x_3 = 0\n",
    "        x_4 = 0\n",
    "        x_5 = 0\n",
    "        x_6 = 0\n",
    "        x_7 = 0\n",
    "        for ii in range(n):\n",
    "            dx_1 = np.random.uniform(-d,d)\n",
    "            dx_2 = np.random.uniform(-d,d)\n",
    "            dx_3 = np.random.uniform(-d,d)\n",
    "            dx_4 = np.random.uniform(-d,d)\n",
    "            dx_5 = np.random.uniform(-d,d)\n",
    "            dx_6 = np.random.uniform(-d,d)\n",
    "            dx_7 = np.random.uniform(-d,d)\n",
    "            if (abs(x_1+dx_1) < 1 and abs(x_2+dx_2)<1 and abs(x_3+dx_3)<1 and abs(x_4+dx_4)<1 and abs(x_5+dx_5)<1 and abs(x_6+dx_6)<1 and abs(x_7+dx_7)<1):\n",
    "                x_1 = x_1+dx_1\n",
    "                x_2 = x_2+dx_2\n",
    "                x_3 = x_3+dx_3\n",
    "                x_4 = x_4+dx_4\n",
    "                x_5 = x_5+dx_5\n",
    "                x_6 = x_6+dx_6\n",
    "                x_7 = x_7+dx_7\n",
    "            if fun(x_1,x_2,x_3,x_4,x_5,x_6,x_7) < 1:\n",
    "                nhits= nhits + 1\n",
    "        pi_est_new.append(128.0*nhits/n)\n",
    "        data.append([jj,nhits])\n",
    "    return data\n",
    "        \n",
    "n=1000\n",
    "runs = 1000\n",
    "d = 1 #delta\n",
    "hits=markov(n,runs,d)\n",
    "print (r'Volume in 7 dimensions')\n",
    "np.average(pi_est_new)"
   ]
  },
  {
   "cell_type": "code",
   "execution_count": 14,
   "metadata": {
    "collapsed": false
   },
   "outputs": [
    {
     "data": {
      "text/plain": [
       "4.7247659703314016"
      ]
     },
     "execution_count": 14,
     "metadata": {},
     "output_type": "execute_result"
    }
   ],
   "source": [
    "V_bubble(7)"
   ]
  },
  {
   "cell_type": "markdown",
   "metadata": {},
   "source": [
    "As the dimensions grew bigger, I had to change my delta for a smaller delta in order to give a better result. This makes sence because if the dimension is bigger, there is more space where the step could fall outside, so a smaller step is desired. Also, the size of the step had to be about the same size as the radius of the bubble."
   ]
  }
 ],
 "metadata": {
  "kernelspec": {
   "display_name": "Python 3",
   "language": "python",
   "name": "python3"
  },
  "language_info": {
   "codemirror_mode": {
    "name": "ipython",
    "version": 3
   },
   "file_extension": ".py",
   "mimetype": "text/x-python",
   "name": "python",
   "nbconvert_exporter": "python",
   "pygments_lexer": "ipython3",
   "version": "3.6.0"
  }
 },
 "nbformat": 4,
 "nbformat_minor": 2
}
