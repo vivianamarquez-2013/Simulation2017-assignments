{
 "cells": [
  {
   "cell_type": "markdown",
   "metadata": {},
   "source": [
    "<img src=\"http://orientacion.universia.net.co/imgs2011/imagenes/logo-header-konradlorenz.png\">\n",
    "# Simulation\n",
    "### Quiz\n",
    "<b>Name:</b> Viviana Márquez<br>\n",
    "<b>Code:</b> 614132005<br>\n",
    "<b>Date:</b> Saturday, April 1st, 2017<br>\n",
    "<hr>"
   ]
  },
  {
   "cell_type": "code",
   "execution_count": 1,
   "metadata": {
    "collapsed": false
   },
   "outputs": [],
   "source": [
    "import numpy as np\n",
    "\n",
    "#lista = [308,785,930,695,864,237,1006,819,204,777,378,495,376,357,70,747,356]\n",
    "#lista = [189, 157, 333, 323, 378, 315, 422, 73, 316, 177, 223, 449, 164, 55, 415, 351, 224, 204, 314, 188, 402]\n",
    "lista=[137, 1234, 535, 1377, 1856, 1533, 814, 639, 32, 1260]"
   ]
  },
  {
   "cell_type": "code",
   "execution_count": 2,
   "metadata": {
    "collapsed": false
   },
   "outputs": [],
   "source": [
    "alfas = list()\n",
    "\n",
    "for l in range(0,len(lista)-1):\n",
    "    alfas.append([lista[l],lista[l+1]])"
   ]
  },
  {
   "cell_type": "code",
   "execution_count": 3,
   "metadata": {
    "collapsed": false
   },
   "outputs": [],
   "source": [
    "vecs = list()\n",
    "\n",
    "for i in range(0,len(alfas)-2):\n",
    "        vecs.append(round(np.abs(np.linalg.det([[alfas[i+1][0]-alfas[i][0],alfas[i+1][1]-alfas[i][1]],[alfas[i+2][0]-alfas[i+1][0],alfas[i+2][1]-alfas[i+1][1]]]))))"
   ]
  },
  {
   "cell_type": "code",
   "execution_count": 4,
   "metadata": {
    "collapsed": false
   },
   "outputs": [
    {
     "name": "stderr",
     "output_type": "stream",
     "text": [
      "/Users/vivianamarquez/anaconda/lib/python3.6/site-packages/ipykernel/__main__.py:6: DeprecationWarning: fractions.gcd() is deprecated. Use math.gcd() instead.\n"
     ]
    }
   ],
   "source": [
    "from fractions import gcd\n",
    "b = vecs[0]\n",
    "gcds = list()\n",
    "\n",
    "for v in range(0,len(vecs)-1):\n",
    "    b = gcd(b,vecs[v+1])\n",
    "    gcds.append(b)"
   ]
  },
  {
   "cell_type": "code",
   "execution_count": 10,
   "metadata": {
    "collapsed": false
   },
   "outputs": [],
   "source": [
    "from collections import Counter\n",
    "count = Counter(gcds)\n",
    "m = count.most_common()[0][0]\n",
    "#m"
   ]
  },
  {
   "cell_type": "code",
   "execution_count": 6,
   "metadata": {
    "collapsed": false
   },
   "outputs": [],
   "source": [
    "#a\n",
    "i = 0\n",
    "while (True):\n",
    "    i= i+1\n",
    "    n = (((alfas[0][0]-alfas[0][1])*i)-(alfas[1][0]-alfas[1][1]))/m\n",
    "    h = n - int(n)\n",
    "    if h==0:\n",
    "        #print (\"a = %a\"%i)\n",
    "        break\n",
    "        \n",
    "A=i"
   ]
  },
  {
   "cell_type": "code",
   "execution_count": 7,
   "metadata": {
    "collapsed": false
   },
   "outputs": [],
   "source": [
    "#c\n",
    "j = 0\n",
    "while (True):\n",
    "    j= j+1\n",
    "    l = ((alfas[0][0]*A)-alfas[0][1]+j)/m\n",
    "    f = l - int(l)\n",
    "    if f==0:\n",
    "        #print (\"c = %a\"%j)\n",
    "        break\n",
    "        \n",
    "C=j"
   ]
  },
  {
   "cell_type": "code",
   "execution_count": 8,
   "metadata": {
    "collapsed": false
   },
   "outputs": [
    {
     "name": "stdout",
     "output_type": "stream",
     "text": [
      "m = 1951\n",
      "a = 1319\n",
      "c = 23\n"
     ]
    }
   ],
   "source": [
    "print (\"m = %a\"%int(m))\n",
    "print (\"a = %a\"%A)\n",
    "print (\"c = %a\"%C)"
   ]
  },
  {
   "cell_type": "markdown",
   "metadata": {},
   "source": [
    "<font size=\"50\" color=\"red\">m = 1951<br><br>\n",
    "a = 1319<br><br>\n",
    "c = 23</font>"
   ]
  }
 ],
 "metadata": {
  "kernelspec": {
   "display_name": "Python 3",
   "language": "python",
   "name": "python3"
  },
  "language_info": {
   "codemirror_mode": {
    "name": "ipython",
    "version": 3
   },
   "file_extension": ".py",
   "mimetype": "text/x-python",
   "name": "python",
   "nbconvert_exporter": "python",
   "pygments_lexer": "ipython3",
   "version": "3.6.0"
  }
 },
 "nbformat": 4,
 "nbformat_minor": 2
}
