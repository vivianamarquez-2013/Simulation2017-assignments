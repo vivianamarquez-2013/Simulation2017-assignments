{
 "cells": [
  {
   "cell_type": "markdown",
   "metadata": {},
   "source": [
    "<img src=\"http://orientacion.universia.net.co/imgs2011/imagenes/logo-header-konradlorenz.png\">\n",
    "# Simulation\n",
    "### Assignment 6\n",
    "<b>Name:</b> Viviana Márquez<br>\n",
    "<b>Code:</b> 614132005<br>\n",
    "<b>Date:</b> Saturday, April 1st, 2017<br>\n",
    "<hr>"
   ]
  },
  {
   "cell_type": "markdown",
   "metadata": {},
   "source": [
    "### 1. Pseudorandom number generators with linear structure"
   ]
  },
  {
   "cell_type": "markdown",
   "metadata": {},
   "source": [
    "(30 Points) Visit http://random.mat.sbg.ac.at/results/karl/server/, choose one linear pseudorandom number generator and implement your own version of it in Python. Describe, briefly, its properties."
   ]
  },
  {
   "cell_type": "code",
   "execution_count": 14,
   "metadata": {
    "collapsed": false
   },
   "outputs": [],
   "source": [
    "import numpy as np\n",
    "import matplotlib.pyplot as plt\n",
    "from mpl_toolkits.mplot3d import Axes3D\n",
    "%matplotlib inline \n",
    "\n",
    "m = 2**32\n",
    "a = 69069\n",
    "c = 0\n",
    "\n",
    "def iterador():\n",
    "    x= 1\n",
    "    while True:\n",
    "        yield x\n",
    "        x=(a*x+c)%m\n",
    "aleatorios=iterador()\n",
    "numbers = []\n",
    "for i in range(10000):\n",
    "    numbers=np.append(numbers,next(aleatorios))\n",
    "numbers = numbers / m"
   ]
  },
  {
   "cell_type": "code",
   "execution_count": 16,
   "metadata": {
    "collapsed": false
   },
   "outputs": [
    {
     "data": {
      "text/plain": [
       "[<matplotlib.lines.Line2D at 0x11ba06b70>]"
      ]
     },
     "execution_count": 16,
     "metadata": {},
     "output_type": "execute_result"
    },
    {
     "data": {
      "image/png": "[encoded data removed]",
      "text/plain": [
       "<matplotlib.figure.Figure at 0x11b9019e8>"
      ]
     },
     "metadata": {},
     "output_type": "display_data"
    }
   ],
   "source": [
    "plt.plot(numbers[:-1],numbers[1:],\"bo\")"
   ]
  },
  {
   "cell_type": "markdown",
   "metadata": {},
   "source": [
    "<b>Super-Duper</b> LCG"
   ]
  },
  {
   "cell_type": "code",
   "execution_count": 17,
   "metadata": {
    "collapsed": false
   },
   "outputs": [
    {
     "data": {
      "text/plain": [
       "1"
      ]
     },
     "execution_count": 17,
     "metadata": {},
     "output_type": "execute_result"
    }
   ],
   "source": [
    "from math import gcd\n",
    "gcd(m,a)"
   ]
  },
  {
   "cell_type": "code",
   "execution_count": 20,
   "metadata": {
    "collapsed": false
   },
   "outputs": [
    {
     "data": {
      "text/plain": [
       "[2]"
      ]
     },
     "execution_count": 20,
     "metadata": {},
     "output_type": "execute_result"
    }
   ],
   "source": [
    "def primes(n):\n",
    "    divisors = [ d for d in range(2,n//2+1) if n % d == 0 ]\n",
    "    return [ d for d in divisors if \\\n",
    "             all( d % od != 0 for od in divisors if od != d ) ]\n",
    "primes(m) #Don't run this line again.\n",
    "#Of course it's two. I just realized that."
   ]
  },
  {
   "cell_type": "code",
   "execution_count": 23,
   "metadata": {
    "collapsed": false
   },
   "outputs": [
    {
     "data": {
      "text/plain": [
       "34534.0"
      ]
     },
     "execution_count": 23,
     "metadata": {},
     "output_type": "execute_result"
    }
   ],
   "source": [
    "(a-1)/2"
   ]
  },
  {
   "cell_type": "code",
   "execution_count": 24,
   "metadata": {
    "collapsed": false
   },
   "outputs": [
    {
     "data": {
      "text/plain": [
       "1073741824.0"
      ]
     },
     "execution_count": 24,
     "metadata": {},
     "output_type": "execute_result"
    }
   ],
   "source": [
    "m/4"
   ]
  },
  {
   "cell_type": "code",
   "execution_count": 25,
   "metadata": {
    "collapsed": false
   },
   "outputs": [
    {
     "data": {
      "text/plain": [
       "17267.0"
      ]
     },
     "execution_count": 25,
     "metadata": {},
     "output_type": "execute_result"
    }
   ],
   "source": [
    "(a-1)/4"
   ]
  },
  {
   "cell_type": "markdown",
   "metadata": {},
   "source": [
    "This LCG has full period. It is around 2^62.<br>\n",
    "\"Super Duper\" was developed by American mathematician George Marsaglia in the 70's. It was developed primarily for IBM mainframes, in assembler.<br>\n",
    "The number chosen for $a$ is a palindrome and product of five prime numbers.<br>\n",
    "32 is an interesting choice for the power of $m$... perhaps it refers to 32-bit sequences."
   ]
  },
  {
   "cell_type": "markdown",
   "metadata": {},
   "source": [
    "<hr>"
   ]
  },
  {
   "cell_type": "markdown",
   "metadata": {
    "collapsed": true
   },
   "source": [
    "### 2. LCG Full Period Condition"
   ]
  },
  {
   "cell_type": "markdown",
   "metadata": {},
   "source": [
    "(20 Points) Use the following theorem<br><br>\n",
    "<b>Theorem 1.</b> An LCG has full period if and only if the following three conditions hold:\n",
    "1. The only positive integer that (exactly) divides both m and c is 1 (i.e., c and m have no common factors other than 1).\n",
    "2. If q is a prime number that divides m then q should divide (a - 1) (i.e., (a - 1) is a multiple of every prime number\n",
    "that divides m).\n",
    "3. If 4 divides m, then 4 should divide (a - 1) (i.e., (a - 1) is a multiple of 4 if m is a multiple of 4).\n",
    "<br><br>\n",
    "to check if the following LCGs<br><br>\n",
    "• $(m=9,a=3,c=2,x_0 =1)$<br>\n",
    "• $(m=8,a=5,c=1,x_0 =5)$<br><br>\n",
    "reaches its full period."
   ]
  },
  {
   "cell_type": "code",
   "execution_count": null,
   "metadata": {
    "collapsed": false
   },
   "outputs": [],
   "source": [
    "from math import gcd\n",
    "gcd(9,3)"
   ]
  },
  {
   "cell_type": "markdown",
   "metadata": {},
   "source": [
    "The first LCG does not meet the first criterion.\n",
    "<hr>"
   ]
  },
  {
   "cell_type": "code",
   "execution_count": null,
   "metadata": {
    "collapsed": false
   },
   "outputs": [],
   "source": [
    "gcd(8,35)"
   ]
  },
  {
   "cell_type": "markdown",
   "metadata": {},
   "source": [
    "• Prime divisor of $8$ is $2$. Then, $q=2$.<br>\n",
    "$(a-1) = 5-1 = 4$. Indeed, two divides four, i.e., $(a-1)$ is a multiple of every prime divisor of $m$.\n",
    "\n"
   ]
  },
  {
   "cell_type": "markdown",
   "metadata": {},
   "source": [
    "• $4$ also divides $8$, and also $4$ itslef, i.e., $(a-1)$ is a multiple of $4$ since $m$ is also a multiple of $4$."
   ]
  },
  {
   "cell_type": "markdown",
   "metadata": {},
   "source": [
    "Since the second LCG meets all criteria, then it reaches its full period."
   ]
  }
 ],
 "metadata": {
  "kernelspec": {
   "display_name": "Python 3",
   "language": "python",
   "name": "python3"
  },
  "language_info": {
   "codemirror_mode": {
    "name": "ipython",
    "version": 3
   },
   "file_extension": ".py",
   "mimetype": "text/x-python",
   "name": "python",
   "nbconvert_exporter": "python",
   "pygments_lexer": "ipython3",
   "version": "3.6.0"
  }
 },
 "nbformat": 4,
 "nbformat_minor": 2
}
