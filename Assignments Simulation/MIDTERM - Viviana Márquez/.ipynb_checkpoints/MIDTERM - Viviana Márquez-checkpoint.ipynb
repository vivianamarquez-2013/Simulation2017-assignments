{
 "cells": [
  {
   "cell_type": "markdown",
   "metadata": {},
   "source": [
    "<img src=\"http://orientacion.universia.net.co/imgs2011/imagenes/logo-header-konradlorenz.png\">\n",
    "# Simulation\n",
    "### MIDTERM\n",
    "<b>Name:</b> Viviana Márquez<br>\n",
    "<b>Code:</b> 614132005<br>\n",
    "<b>Date:</b> Saturday, March 18th, 2017<br>\n",
    "<hr>"
   ]
  },
  {
   "cell_type": "markdown",
   "metadata": {},
   "source": [
    "### 1. Stability"
   ]
  },
  {
   "cell_type": "markdown",
   "metadata": {},
   "source": [
    "• (15 Points) Test the linear stability of the zero solution $x_1(t) \\equiv  0$, $x_2(t) \\equiv 0$, in the following system using the linearization method<br><br>\n",
    "<center>$x^{'}_1 = -1-x_2+e^{x_1}$<br>\n",
    "$x_2^{'} = 4x_1-2\\sin x_2.$</center>"
   ]
  },
  {
   "cell_type": "markdown",
   "metadata": {},
   "source": [
    "<font color=\"blue\">Solution:</font><br>\n",
    "Let us set the following equations in order to be able to obtain the critical points:<br>\n",
    "$x^{'}_1 = -1-x_2+e^{x_1} = 0$<br>\n",
    "$x_2^{'} = 4x_1-2\\sin x_2 = 0$\n",
    "\n"
   ]
  },
  {
   "cell_type": "code",
   "execution_count": 1,
   "metadata": {
    "collapsed": false,
    "scrolled": false
   },
   "outputs": [
    {
     "name": "stdout",
     "output_type": "stream",
     "text": [
      "Critical point in 0,0\n"
     ]
    },
    {
     "name": "stderr",
     "output_type": "stream",
     "text": [
      "/Users/vivianamarquez/anaconda/lib/python3.6/site-packages/ipykernel/__main__.py:4: RuntimeWarning: overflow encountered in exp\n"
     ]
    },
    {
     "data": {
      "text/plain": [
       "[(0, 0)]"
      ]
     },
     "execution_count": 1,
     "metadata": {},
     "output_type": "execute_result"
    }
   ],
   "source": [
    "import numpy as np\n",
    "\n",
    "def f(x,y):\n",
    "    return -1 - y + np.exp(x)\n",
    "def g(x,y):\n",
    "    return 4*x - 2*np.sin(y)\n",
    "\n",
    "cp = []\n",
    "\n",
    "def critical_points(r):\n",
    "    for x in range(r):\n",
    "        for y in range(r):\n",
    "            if ((f(x,y) == 0) and (g(x,y) == 0)):\n",
    "                cp.append((x,y))\n",
    "                print('Critical point in %s,%s'% (x,y))\n",
    "    return cp\n",
    "\n",
    "critical_points(1000)"
   ]
  },
  {
   "cell_type": "markdown",
   "metadata": {},
   "source": [
    "To linearize the system around the critical point, we must first find the Jacobian matrix:<br>\n",
    "$J_F(x_1,x_2)=\\left( \\begin{array}{ccc}\n",
    "e^{x_1} & -1 \\\\\n",
    "4 & -2\\cos(x_2) \\end{array} \\right)$"
   ]
  },
  {
   "cell_type": "markdown",
   "metadata": {},
   "source": [
    "Now, let us find the linearized system about $(0,0)$:<br><br>\n",
    "$x'=Ax$, where $A=\\left( \\begin{array}{ccc}\n",
    "1 & -1 \\\\\n",
    "4 & -2\\end{array} \\right)$"
   ]
  },
  {
   "cell_type": "code",
   "execution_count": 2,
   "metadata": {
    "collapsed": false,
    "scrolled": false
   },
   "outputs": [
    {
     "data": {
      "image/png": "[encoded data removed]",
      "text/latex": [
       "$$\\left \\{ - \\frac{1}{2} - \\frac{\\sqrt{7} i}{2} : 1, \\quad - \\frac{1}{2} + \\frac{\\sqrt{7} i}{2} : 1\\right \\}$$"
      ],
      "text/plain": [
       "⎧  1   √7⋅ⅈ       1   √7⋅ⅈ   ⎫\n",
       "⎨- ─ - ────: 1, - ─ + ────: 1⎬\n",
       "⎩  2    2         2    2     ⎭"
      ]
     },
     "execution_count": 2,
     "metadata": {},
     "output_type": "execute_result"
    }
   ],
   "source": [
    "from sympy import *\n",
    "init_printing(use_unicode=True)\n",
    "\n",
    "M = Matrix([[1,-1], [4,-2]])\n",
    "M.eigenvals()"
   ]
  },
  {
   "cell_type": "code",
   "execution_count": 3,
   "metadata": {
    "collapsed": false,
    "scrolled": true
   },
   "outputs": [
    {
     "name": "stdout",
     "output_type": "stream",
     "text": [
      "Re λ1: -1/2\n",
      "Re λ2: -1/2\n"
     ]
    }
   ],
   "source": [
    "ev = list(M.eigenvals())\n",
    "lambda1 = re(ev[0])\n",
    "lambda2 = re(ev[1])\n",
    "print (\"Re λ1: %a\"%lambda1)\n",
    "print (\"Re λ2: %a\"%lambda2)"
   ]
  },
  {
   "cell_type": "markdown",
   "metadata": {},
   "source": [
    "Since $Re \\lambda_i < 0$ we have that the linearized system is stable."
   ]
  },
  {
   "cell_type": "markdown",
   "metadata": {},
   "source": [
    "<hr>"
   ]
  },
  {
   "cell_type": "markdown",
   "metadata": {},
   "source": [
    "### 2. Linear optimization"
   ]
  },
  {
   "cell_type": "markdown",
   "metadata": {},
   "source": [
    "• (15 Points)  Nelson Vargas co-founded recently an astrology group and acquired a loan of $\\$16670$ from Salomon to start his business, i.e., to produce three types of services—read Tarot cards, horoscopes, and tasseographies —with $137$ students. A student can produce an average of $135$ Tarot reads, $45$ horoscopes, or $100$ tasseographies in one week. Whenever each service is finished the student must write a report. The net profit per Tarot reads is $\\$2.25$, for horoscope is $\\$1.70$, and for tasseography is $\\$3.05$. After a week these results must be stored in Dropbox. At present, his Dropbox can store $3895$ reports. The salary per student is $\\$95.00$ to read Tarot cards, $\\$205.00$ to produce one horoscope, and $\\$115.00$ for each tasseography performed.<br>\n",
    "\n",
    "What amount of students should Nelson plan to dedicate to each fortune-telling method in order to optimize profit?"
   ]
  },
  {
   "cell_type": "markdown",
   "metadata": {},
   "source": [
    "<font color=\"blue\">Solution:</font>\n",
    "<br>\n",
    "<br>Number of students per fortune-telling methods:\n",
    "<br>• $C$: Tarot reads.\n",
    "<br>• $H$: Horoscope.\n",
    "<br>• $T$: Tasseographies.\n",
    "<br>\n",
    "\n",
    "<table style=\"width:50%\">\n",
    "  <tr>\n",
    "    <th></th>\n",
    "    <th>$C$</th> \n",
    "    <th>$H$</th>\n",
    "    <th>$T$</th>\n",
    "    <th></th>\n",
    "  </tr>\n",
    "  <tr>\n",
    "    <th>$Students$</th>\n",
    "    <td>$1$</td> \n",
    "    <td>$1$</td>\n",
    "    <td>$1$</td>\n",
    "    <td>$137$</td>\n",
    "  </tr>\n",
    "  <tr>\n",
    "    <th>$Dropbox$</th>\n",
    "    <td>$135$</td> \n",
    "    <td>$45$</td>\n",
    "    <td>$100$</td>\n",
    "    <td>$3,895$</td>\n",
    "  </tr>\n",
    "  <tr>\n",
    "    <th>$Funds$</th>\n",
    "    <td>$95$</td> \n",
    "    <td>$205*45$</td>\n",
    "    <td>$115*100$</td>\n",
    "    <td>$16,670$</td>\n",
    "  </tr>\n",
    "</table>\n",
    "<br>\n",
    "Maximize:<br>\n",
    "<center>$P=2.25(135*C)+1.70(45*H)+3.05(100*T)$</center>\n",
    "Subject to:\n",
    "<center>\n",
    "$C+H+T \\leq 137$<br>\n",
    "$135C + 45H + 100T \\leq 3895$<br>\n",
    "$95C + 205(45*H) + 115(100*T) \\leq 16670$<br>\n",
    "</center>\n",
    "where all unknowns are nonnegative."
   ]
  },
  {
   "cell_type": "code",
   "execution_count": 4,
   "metadata": {
    "collapsed": false
   },
   "outputs": [
    {
     "name": "stdout",
     "output_type": "stream",
     "text": [
      "C: Number of students doing tarot reads = 27\n",
      "H: Number of students doing horoscopes = 0\n",
      "T: Number of students doing tasseographies = 1\n",
      "The maximum profit possible is: $8506.25\n"
     ]
    }
   ],
   "source": [
    "from scipy.optimize import linprog\n",
    "pofm = [-2.25*135,-1.70*45,-3.05*100]\n",
    "pmat_1 = [[1,1,1],[135,45,100],[95,205*45,115*100]]\n",
    "pmat_2 = [137,3895,16670]\n",
    "x_bounds = y_bounds = z_bounds = (0, None)\n",
    "panswer = linprog(pofm, pmat_1, pmat_2, bounds=(x_bounds,y_bounds,z_bounds))\n",
    "print (\"C: Number of students doing tarot reads = %a\"%int(panswer.x[0]))\n",
    "print (\"H: Number of students doing horoscopes = %a\"%int(panswer.x[1]))\n",
    "print (\"T: Number of students doing tasseographies = %a\"%int(panswer.x[2]))\n",
    "#print (\"The maximum is: %a\"%(panswer.fun*-1))\n",
    "print (\"The maximum profit possible is: $%a\"%(2.25*135*int(panswer.x[0])+1.70*45*int(panswer.x[1])+3.05*100*int(panswer.x[2])))"
   ]
  },
  {
   "cell_type": "markdown",
   "metadata": {},
   "source": [
    "Nelson Vargas should open an astro<font color=\"red\"><b>n</b></font>omy group, because in the astrology one the debt is way higher than the profit."
   ]
  },
  {
   "cell_type": "markdown",
   "metadata": {},
   "source": [
    "<hr>"
   ]
  },
  {
   "cell_type": "markdown",
   "metadata": {},
   "source": [
    "### 3. Fitting"
   ]
  },
  {
   "cell_type": "markdown",
   "metadata": {},
   "source": [
    "• (5 Points) Plot the following data.<br><br>\n",
    "<center>\n",
    "<table style=\"width:30%\">\n",
    "  <tr>\n",
    "    <th><b>$x$</b></th>\n",
    "    <th>$0.5$</th> \n",
    "    <th>$1.0$</th>\n",
    "    <th>$1.5$</th>\n",
    "    <th>$2.0$</th>\n",
    "    <th>$2.5$</th>\n",
    "  </tr>\n",
    "  <tr>\n",
    "    <th>$y$</th>\n",
    "    <th>$0.541$</th> \n",
    "    <th>$0.398$</th>\n",
    "    <th>$0.232$</th>\n",
    "    <th>$0.106$</th>\n",
    "    <th>$0.052$</th>\n",
    "  </tr>\n",
    "</table>\n",
    "</center>"
   ]
  },
  {
   "cell_type": "code",
   "execution_count": 5,
   "metadata": {
    "collapsed": false
   },
   "outputs": [
    {
     "name": "stderr",
     "output_type": "stream",
     "text": [
      "/Users/vivianamarquez/anaconda/lib/python3.6/site-packages/matplotlib/axes/_axes.py:545: UserWarning: No labelled objects found. Use label='...' kwarg on individual plots.\n",
      "  warnings.warn(\"No labelled objects found. \"\n"
     ]
    },
    {
     "data": {
      "image/png": "[encoded data removed]",
      "text/plain": [
       "<matplotlib.figure.Figure at 0x10db69278>"
      ]
     },
     "metadata": {},
     "output_type": "display_data"
    }
   ],
   "source": [
    "%matplotlib inline\n",
    "import matplotlib as mpl\n",
    "import matplotlib.pyplot as plt\n",
    "\n",
    "x = [0.5,1.0,1.5,2.0,2.5]\n",
    "y = [0.541,0.398,0.232,0.106,0.052]\n",
    "\n",
    "mpl.rc(\"figure\", figsize=(8, 8))\n",
    "\n",
    "plt.xlabel('x-axis', fontsize=14)\n",
    "plt.ylabel('y-axis', fontsize=14)\n",
    "plt.plot(x,y,'bo')\n",
    "plt.legend()\n",
    "plt.show()"
   ]
  },
  {
   "cell_type": "markdown",
   "metadata": {},
   "source": [
    "• (10 Points) Fit the function<br> \n",
    "<center>$f(x)=axe^{bx}$</center><br>\n",
    "and compute the standard deviation.<br><br>"
   ]
  },
  {
   "cell_type": "code",
   "execution_count": 6,
   "metadata": {
    "collapsed": false
   },
   "outputs": [
    {
     "data": {
      "image/png": "[encoded data removed]",
      "text/plain": [
       "<matplotlib.figure.Figure at 0x110ae9be0>"
      ]
     },
     "metadata": {},
     "output_type": "display_data"
    }
   ],
   "source": [
    "mpl.rc(\"figure\", figsize=(8, 8))\n",
    "\n",
    "from scipy.optimize import curve_fit\n",
    "def func(x, a, b):\n",
    "    return a * x * np.exp(b * x)\n",
    "\n",
    "popt, pcov = curve_fit(func, x, y)\n",
    "\n",
    "x_2 = np.linspace(0.3, 2.7, 1000)\n",
    "y_2 = func(x_2, popt[0], popt[1])\n",
    "\n",
    "plt.xlabel('x-axis', fontsize=14)\n",
    "plt.ylabel('y-axis', fontsize=14)\n",
    "plt.plot(x,y,'bo',label='Data set')\n",
    "plt.plot(x_2,y_2,'--', color='r',label='Fitted function')\n",
    "plt.legend()\n",
    "plt.show()"
   ]
  },
  {
   "cell_type": "code",
   "execution_count": 7,
   "metadata": {
    "collapsed": false
   },
   "outputs": [
    {
     "name": "stdout",
     "output_type": "stream",
     "text": [
      "The standard deviation of the data set is 0.804594612212\n"
     ]
    }
   ],
   "source": [
    "sd = np.std(np.array([x, y]))\n",
    "print (\"The standard deviation of the data set is %s\"%sd)"
   ]
  },
  {
   "cell_type": "code",
   "execution_count": 8,
   "metadata": {
    "collapsed": false
   },
   "outputs": [
    {
     "name": "stdout",
     "output_type": "stream",
     "text": [
      "The standard deviation of the fitted function is 0.799032531485\n"
     ]
    }
   ],
   "source": [
    "sd = np.std(np.array([x_2, y_2]))\n",
    "print (\"The standard deviation of the fitted function is %s\"%sd)"
   ]
  },
  {
   "cell_type": "markdown",
   "metadata": {},
   "source": [
    "• (5 Points) Determine the value of y for x = 1.8 using the model found."
   ]
  },
  {
   "cell_type": "code",
   "execution_count": 9,
   "metadata": {
    "collapsed": false,
    "scrolled": true
   },
   "outputs": [
    {
     "name": "stdout",
     "output_type": "stream",
     "text": [
      "0.148865508719\n"
     ]
    }
   ],
   "source": [
    "y_2 = func(1.8, popt[0], popt[1])\n",
    "print (y_2)"
   ]
  }
 ],
 "metadata": {
  "kernelspec": {
   "display_name": "Python 3",
   "language": "python",
   "name": "python3"
  },
  "language_info": {
   "codemirror_mode": {
    "name": "ipython",
    "version": 3
   },
   "file_extension": ".py",
   "mimetype": "text/x-python",
   "name": "python",
   "nbconvert_exporter": "python",
   "pygments_lexer": "ipython3",
   "version": "3.6.0"
  }
 },
 "nbformat": 4,
 "nbformat_minor": 2
}
