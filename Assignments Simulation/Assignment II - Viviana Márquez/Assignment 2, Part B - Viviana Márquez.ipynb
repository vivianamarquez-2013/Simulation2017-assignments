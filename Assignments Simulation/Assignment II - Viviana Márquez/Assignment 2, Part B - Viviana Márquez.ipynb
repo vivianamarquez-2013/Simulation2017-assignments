{
 "cells": [
  {
   "cell_type": "markdown",
   "metadata": {},
   "source": [
    "<img src=\"http://orientacion.universia.net.co/imgs2011/imagenes/logo-header-konradlorenz.png\">\n",
    "# Simulation\n",
    "### Assignment 2\n",
    "<b>Name:</b> Viviana Márquez<br>\n",
    "<b>Code:</b> 614132005<br>\n",
    "<b>Date:</b> Saturday, February 18th, 2016<br>\n",
    "<hr>"
   ]
  },
  {
   "cell_type": "markdown",
   "metadata": {},
   "source": [
    "### 2. Mathematical Preliminaries\n",
    "• (5 Points) Is the following time-varying function positive definite?<br><br>\n",
    "<center>$V(t,x_{1},x_{2})=t(x_{1}^{2}+x_{2}^{2})+4x_{1}x_{2}\\sin t$</center><br>\n",
    "<font color=\"blue\">Solution:</font>\n",
    "\n",
    "A function $V: \\mathbb{R}^{n} \\rightarrow  \\mathbb{R}$ is positive definite if:<br>\n",
    "• $V(z)=0$ iff $z=0$<br>\n",
    "• $V(z)> 0$ $ \\forall z, z\\neq 0$\n",
    "\n",
    "1. $V(t,0,0)=0$ $\\checkmark$ \n",
    "2. $V(t,x_{1},x_{2}) \\geq V(x_{1},x_{2})$ $ \\forall x \\neq 0$. From the numerical approach below, we can conclude that there is no such function.<br><br>\n",
    "Therefore $V(t,x,y)$ is positive semidefinite."
   ]
  },
  {
   "cell_type": "code",
   "execution_count": 1,
   "metadata": {
    "collapsed": false
   },
   "outputs": [],
   "source": [
    "import numpy as np\n",
    "x = np.arange(-99999,99999)\n",
    "y = np.arange(-99999,99999)\n",
    "w = np.arange(-99999,99999)"
   ]
  },
  {
   "cell_type": "code",
   "execution_count": 2,
   "metadata": {
    "collapsed": false
   },
   "outputs": [],
   "source": [
    "z = w*(x**2 + y**2) + 4*x*y*np.sin(w)\n",
    "z2 = (x**2 + y**2) + 4*x*y"
   ]
  },
  {
   "cell_type": "code",
   "execution_count": 3,
   "metadata": {
    "collapsed": false
   },
   "outputs": [
    {
     "data": {
      "image/png": "[encoded data removed]",
      "text/plain": [
       "<matplotlib.figure.Figure at 0x10b89ecc0>"
      ]
     },
     "metadata": {},
     "output_type": "display_data"
    }
   ],
   "source": [
    "%matplotlib inline\n",
    "import matplotlib as mpl\n",
    "import matplotlib.pyplot as plt\n",
    "mpl.rc(\"figure\", figsize=(10, 6))\n",
    "plt.plot(x,z,'--', color='r')\n",
    "plt.plot(x,z2,'--', color='b')\n",
    "plt.show()"
   ]
  },
  {
   "cell_type": "markdown",
   "metadata": {},
   "source": [
    "<hr>\n",
    "• (10 Points) Test the stability of the zero solution for the following system:<br>\n",
    "<center>$x_{1}^{'}=-x_{1}^{3}+x_{1}^{4}$<br>\n",
    "$x_{2}^{'}=x_{1}^{4}+x_{2}^{3}$</center>"
   ]
  },
  {
   "cell_type": "markdown",
   "metadata": {},
   "source": [
    "<font color=\"blue\">Solution:</font><br>\n",
    "Let us solve this problem using Krasovskii's method:<br><br>\n",
    "$J(X)= \\left( \\begin{array}{ccc}\n",
    "-3x_{1}^{2} + 4x_{1}^{3}& 0 \\\\\n",
    "4x_{1}^{3} & 3x_{2}^{2} \\end{array} \\right) $<br><br>\n",
    "$J^{T}(X)= \\left( \\begin{array}{ccc}\n",
    "-3x_{1}^{2} + 4x_{1}^{3}& 4x_{1}^{3} \\\\\n",
    "0 & 3x_{2}^{2} \\end{array} \\right) $<br><br>\n",
    "$M(x_{1},x_{2})=J(X)+J^{T}(X)= \\left( \\begin{array}{ccc}\n",
    "-6x_{1}^{2} + 8x_{1}^{3}& 4x_{1}^{3} \\\\\n",
    "4x_{1}^{3} & 6x_{2}^{2} \\end{array} \\right) $"
   ]
  },
  {
   "cell_type": "markdown",
   "metadata": {},
   "source": [
    "$M(x_{1},x_{2})$ is negative definite, therefore $V^{*}(x)$ is negative as well. By theorem shown in class, then we can affirm the zero solution is asymptocally stable."
   ]
  },
  {
   "cell_type": "markdown",
   "metadata": {
    "collapsed": true
   },
   "source": [
    "<hr>\n",
    "• (15 points) Test the linear stability of the zero solution $x_{1}(t)=0$, $x_{2}(t)=0$ in the Lotka-Volterra population model, i.e.,<br>\n",
    "<center>$x_{1}^{'}=ax_{1}+x_{1}x_{2}$<br>\n",
    "$x_{2}^{'}=-bx_{2}+x_{1}x_{2}$,<br></center>\n",
    "for your favorite pair of integers $(a,b)$. "
   ]
  },
  {
   "cell_type": "markdown",
   "metadata": {
    "collapsed": true
   },
   "source": [
    "<font color=\"blue\">Solution:</font><br>\n",
    "Let us choose $a=7$ and $b=13$.<br><br>\n",
    "Now, let us set the following equations in order to be able to obtain the critical points:<br>\n",
    "$x_{1}^{'}=7x_{1}+x_{1}x_{2} = 0$<br>\n",
    "$x_{2}^{'}=-13x_{2}+x_{1}x_{2} = 0$\n"
   ]
  },
  {
   "cell_type": "code",
   "execution_count": 4,
   "metadata": {
    "collapsed": false,
    "scrolled": true
   },
   "outputs": [
    {
     "name": "stdout",
     "output_type": "stream",
     "text": [
      "Critical point in 0,0\n"
     ]
    },
    {
     "data": {
      "text/plain": [
       "[(0, 0)]"
      ]
     },
     "execution_count": 4,
     "metadata": {},
     "output_type": "execute_result"
    }
   ],
   "source": [
    "def f(x,y):\n",
    "    return 7*x + x*y\n",
    "def g(x,y):\n",
    "    return - 13*y + x*y\n",
    "\n",
    "cp = []\n",
    "\n",
    "def critical_points(r):\n",
    "    for x in range(r):\n",
    "        for y in range(r):\n",
    "            if ((f(x,y) == 0) and (g(x,y) == 0)):\n",
    "                cp.append((x,y))\n",
    "                print('Critical point in %s,%s'% (x,y))\n",
    "    return cp\n",
    "\n",
    "critical_points(1000)"
   ]
  },
  {
   "cell_type": "markdown",
   "metadata": {},
   "source": [
    "Let us find the linearized system about $(0,0)$<br><br>\n",
    "$x'=Ax$, where $A=\\left( \\begin{array}{ccc}\n",
    "7 & 0 \\\\\n",
    "0 & -13 \\end{array} \\right)$"
   ]
  },
  {
   "cell_type": "code",
   "execution_count": 5,
   "metadata": {
    "collapsed": false
   },
   "outputs": [
    {
     "data": {
      "image/png": "[encoded data removed]",
      "text/latex": [
       "$$\\left \\{ -13 : 1, \\quad 7 : 1\\right \\}$$"
      ],
      "text/plain": [
       "{-13: 1, 7: 1}"
      ]
     },
     "execution_count": 5,
     "metadata": {},
     "output_type": "execute_result"
    }
   ],
   "source": [
    "from sympy import *\n",
    "init_printing(use_unicode=True)\n",
    "†t"
   ]
  },
  {
   "cell_type": "markdown",
   "metadata": {},
   "source": [
    "Therefore $(0,0)$ is a saddle point, therefore unestable. "
   ]
  }
 ],
 "metadata": {
  "kernelspec": {
   "display_name": "Python 3",
   "language": "python",
   "name": "python3"
  },
  "language_info": {
   "codemirror_mode": {
    "name": "ipython",
    "version": 3
   },
   "file_extension": ".py",
   "mimetype": "text/x-python",
   "name": "python",
   "nbconvert_exporter": "python",
   "pygments_lexer": "ipython3",
   "version": "3.6.0"
  }
 },
 "nbformat": 4,
 "nbformat_minor": 2
}
